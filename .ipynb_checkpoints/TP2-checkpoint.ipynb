{
 "cells": [
  {
   "cell_type": "markdown",
   "metadata": {
    "colab_type": "text",
    "id": "view-in-github"
   },
   "source": [
    "<a href=\"https://colab.research.google.com/github/securitylab-repository/TPS-IA/blob/master/TP2.ipynb\" target=\"_parent\"><img src=\"https://colab.research.google.com/assets/colab-badge.svg\" alt=\"Open In Colab\"/></a>"
   ]
  },
  {
   "cell_type": "code",
   "execution_count": 128,
   "metadata": {
    "colab": {},
    "colab_type": "code",
    "id": "Vrc4GkPd8MaT"
   },
   "outputs": [],
   "source": [
    "from IPython.display import display\n",
    "import numpy as np\n",
    "import pandas as pd\n",
    "\n",
    "class Classifier:\n",
    "  def __init__(self, cls_type=\"Generic\"):\n",
    "    \n",
    "      self.cls_type = cls_type\n",
    "  \n",
    "  def __str__(self):\n",
    "    \n",
    "      return \"{} classifier\".format(self.cls_type)\n",
    "  \n",
    "  def __repr__(self):\n",
    "    \n",
    "      return \"{} classifier\".format(self.cls_type)\n",
    "\n",
    "  def _ipython_display_(self):\n",
    "    \n",
    "      return \"{} classifier\".format(self.cls_type)\n",
    "\n",
    "\n",
    "  def __getattr__(self,name):\n",
    "\n",
    "      print(\"{} don't exist in {} classifier\".format(name,self.cls_type))\n",
    "\n",
    "\n",
    "class LinearClassifier(Classifier):\n",
    "  \n",
    "  def __init__(self, alpha=1):\n",
    "\n",
    "    Classifier.__init__(self,\"LinearRegression\")\n",
    "    self.alpha = alpha\n",
    "    \n",
    "    \n",
    "  def fit(self,X = [],y = [],max_steps = 10000):\n",
    "\n",
    "    self.steps = 0\n",
    "    self.max_steps = max_steps\n",
    "    self.X = X\n",
    "    self.y = y\n",
    "    self.costs = []\n",
    "    self.thetas = []\n",
    "    \n",
    "    # calculer le nombre d'exemples d'entrainement\n",
    "    self.m = np.ma.size(self.X,axis=1)\n",
    "    \n",
    "    \n",
    "    # nombre de features dans X\n",
    "    x_nb_col = np.ma.size(self.X,axis=0)\n",
    "    \n",
    "    #générer le vecteur colonne theta initial selon le nombre de features dans X\n",
    "    np.random.seed(123) #Set the seed\n",
    "    self.theta = np.array([np.random.rand(2)]).T #Pick some random values to start with\n",
    "    #self.theta = np.array([np.linspace(1,200,x_nb_col)]).T\n",
    "    \n",
    "    # calculer la fonction hypothèse\n",
    "    h = np.dot(X, self.theta)\n",
    "    \n",
    "    # calculer l'erreur\n",
    "    erreur = h - self.y\n",
    "    \n",
    "    # calculer la fonction de coût J(theta)\n",
    "    cost = (1/(2 * self.m)) * np.dot(erreur.T, erreur)\n",
    "    \n",
    "    # sauvegarder le coût actuel\n",
    "    self.costs.append(cost)\n",
    "    \n",
    "    # gradient descent\n",
    "    \n",
    "    self.theta = self.theta - (self.alpha * (1/self.m) * np.dot(self.X.T, erreur))\n",
    "    self.thetas.append(self.theta)\n",
    "    \n",
    "    \n",
    "    while (self.steps < self.max_steps):\n",
    "        \n",
    "        # calculer la fonction hypothèse\n",
    "        h = np.dot(X, self.theta)\n",
    "    \n",
    "        # calculer l'erreur\n",
    "        erreur = h - self.y\n",
    "    \n",
    "        # calculer la fonction de coût J(theta)\n",
    "        cost = (1/(2 * self.m)) * np.dot(erreur.T, erreur)\n",
    "    \n",
    "        # sauvegarder le coût actuel\n",
    "       \n",
    "        self.costs.append(cost)\n",
    "    \n",
    "        # gradient descent\n",
    "    \n",
    "        self.theta = self.theta - (self.alpha * (1/self.m) * np.dot(self.X.T, erreur))\n",
    "        self.thetas.append(self.theta)\n",
    "        \n",
    "        self.steps += 1\n",
    "\n",
    "    \n",
    "\n",
    "\n",
    "  def cost(self):\n",
    "    cost = (1.0 / 2.0 * self.m) * ((self.X_train @ self.theta) - self.y_train).T @ ((self.X_train @ self.theta) - self.y_train)\n",
    "    print(cost)\n",
    "\n",
    "\n",
    "  def predict(self):\n",
    "\n",
    "    return \n",
    "\n",
    "\n",
    "\n",
    "\n"
   ]
  },
  {
   "cell_type": "code",
   "execution_count": 130,
   "metadata": {
    "colab": {
     "base_uri": "https://localhost:8080/",
     "height": 1000
    },
    "colab_type": "code",
    "id": "L7dGpxQ0zsz_",
    "outputId": "192789af-2b5d-4e8f-cc46-293a63f34ae7"
   },
   "outputs": [
    {
     "name": "stdout",
     "output_type": "stream",
     "text": [
      "[0.01808828 0.0180873  0.01808631 ... 0.01538265 0.01538262 0.01538258]\n"
     ]
    },
    {
     "data": {
      "image/png": "[encoded data removed]",
      "text/plain": [
       "<Figure size 432x288 with 1 Axes>"
      ]
     },
     "metadata": {
      "needs_background": "light"
     },
     "output_type": "display_data"
    }
   ],
   "source": [
    "%matplotlib inline\n",
    "#%matplotlib notebook\n",
    "import matplotlib.pyplot as plt\n",
    "\n",
    "housing = pd.read_csv('https://raw.githubusercontent.com/securitylab-repository/TPS-IA/master/datasets/housing.csv',delimiter=',')\n",
    "\n",
    "# Normalisation\n",
    "for col in ['median_income','total_rooms','median_house_value' ]:\n",
    "  housing[col] = (housing[col] - housing[col].median()) / (housing[col].max() - housing[col].min())\n",
    "\n",
    "y = housing.loc[:,['median_house_value']]\n",
    "\n",
    "X = housing.loc[:,['median_income','total_rooms']]\n",
    "\n",
    "l_cls = LinearClassifier(0.01)\n",
    "\n",
    "l_cls.fit(X,y,10000)\n",
    "\n",
    "print(np.array(l_cls.costs).flatten())\n",
    "\n",
    "#Plot the cost function...\n",
    "plt.title('Cost Function J')\n",
    "plt.xlabel('No. of iterations')\n",
    "plt.ylabel('Cost')\n",
    "plt.plot(np.array(l_cls.costs).flatten())\n",
    "plt.show()\n",
    "\n"
   ]
  },
  {
   "cell_type": "code",
   "execution_count": 8,
   "metadata": {
    "colab": {},
    "colab_type": "code",
    "id": "cm7V3dRFS0-5"
   },
   "outputs": [
    {
     "name": "stdout",
     "output_type": "stream",
     "text": [
      "[[ 3 12]\n",
      " [ 5 18]\n",
      " [ 1  9]]\n"
     ]
    }
   ],
   "source": [
    "theta = np.array([1,3])\n",
    "x = np.array([[3,4],\n",
    "              [5,6],\n",
    "              [1,3]])\n",
    "\n",
    "print(x * theta)"
   ]
  },
  {
   "cell_type": "code",
   "execution_count": 0,
   "metadata": {
    "colab": {
     "base_uri": "https://localhost:8080/",
     "height": 218
    },
    "colab_type": "code",
    "id": "A9fhUs3nwraK",
    "outputId": "027dd0de-d581-4dcf-8388-308ff2a20df4"
   },
   "outputs": [
    {
     "ename": "ValueError",
     "evalue": "ignored",
     "output_type": "error",
     "traceback": [
      "\u001b[0;31m---------------------------------------------------------------------------\u001b[0m",
      "\u001b[0;31mValueError\u001b[0m                                Traceback (most recent call last)",
      "\u001b[0;32m<ipython-input-10-f06e0a7b0217>\u001b[0m in \u001b[0;36m<module>\u001b[0;34m()\u001b[0m\n\u001b[1;32m      1\u001b[0m \u001b[0;32mimport\u001b[0m \u001b[0mnumpy\u001b[0m \u001b[0;32mas\u001b[0m \u001b[0mnp\u001b[0m\u001b[0;34m\u001b[0m\u001b[0;34m\u001b[0m\u001b[0m\n\u001b[1;32m      2\u001b[0m \u001b[0mnp\u001b[0m\u001b[0;34m.\u001b[0m\u001b[0marange\u001b[0m\u001b[0;34m(\u001b[0m\u001b[0;36m4\u001b[0m\u001b[0;34m)\u001b[0m\u001b[0;34m\u001b[0m\u001b[0;34m\u001b[0m\u001b[0m\n\u001b[0;32m----> 3\u001b[0;31m \u001b[0mpoly\u001b[0m \u001b[0;34m=\u001b[0m \u001b[0;34m[\u001b[0m\u001b[0;36m4\u001b[0m\u001b[0;34m,\u001b[0m\u001b[0;36m3\u001b[0m\u001b[0;34m]\u001b[0m\u001b[0;34m**\u001b[0m \u001b[0mnp\u001b[0m\u001b[0;34m.\u001b[0m\u001b[0marange\u001b[0m\u001b[0;34m(\u001b[0m\u001b[0;36m4\u001b[0m\u001b[0;34m)\u001b[0m\u001b[0;34m\u001b[0m\u001b[0;34m\u001b[0m\u001b[0m\n\u001b[0m\u001b[1;32m      4\u001b[0m \u001b[0mpoly\u001b[0m\u001b[0;34m\u001b[0m\u001b[0;34m\u001b[0m\u001b[0m\n",
      "\u001b[0;31mValueError\u001b[0m: operands could not be broadcast together with shapes (2,) (4,) "
     ]
    }
   ],
   "source": [
    "import numpy as np\n",
    "np.arange(4)\n",
    "poly = [4,3]** np.arange(4)\n",
    "poly\n"
   ]
  }
 ],
 "metadata": {
  "colab": {
   "authorship_tag": "ABX9TyMfEV9JL/t51Cj0s7Kwb60a",
   "collapsed_sections": [],
   "include_colab_link": true,
   "name": "TP2.ipynb",
   "provenance": []
  },
  "kernelspec": {
   "display_name": "Python 3",
   "language": "python",
   "name": "python3"
  },
  "language_info": {
   "codemirror_mode": {
    "name": "ipython",
    "version": 3
   },
   "file_extension": ".py",
   "mimetype": "text/x-python",
   "name": "python",
   "nbconvert_exporter": "python",
   "pygments_lexer": "ipython3",
   "version": "3.7.3"
  }
 },
 "nbformat": 4,
 "nbformat_minor": 1
}
