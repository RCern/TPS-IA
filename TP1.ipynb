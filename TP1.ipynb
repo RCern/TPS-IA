{
  "nbformat": 4,
  "nbformat_minor": 0,
  "metadata": {
    "kernelspec": {
      "display_name": "Python 3",
      "language": "python",
      "name": "python3"
    },
    "language_info": {
      "codemirror_mode": {
        "name": "ipython",
        "version": 3
      },
      "file_extension": ".py",
      "mimetype": "text/x-python",
      "name": "python",
      "nbconvert_exporter": "python",
      "pygments_lexer": "ipython3",
      "version": "3.7.3"
    },
    "colab": {
      "name": "TP1.ipynb",
      "provenance": [],
      "collapsed_sections": [
        "WE5vahT0p2Zg",
        "ne4baVb2p2aP",
        "zhs56LqIp2ag",
        "HRq914bGp2aq",
        "pkm8URzQp2au"
      ],
      "include_colab_link": true
    }
  },
  "cells": [
    {
      "cell_type": "markdown",
      "metadata": {
        "id": "view-in-github",
        "colab_type": "text"
      },
      "source": [
        "<a href=\"https://colab.research.google.com/github/securitylab-repository/TPS-IA/blob/master/TP1.ipynb\" target=\"_parent\"><img src=\"https://colab.research.google.com/assets/colab-badge.svg\" alt=\"Open In Colab\"/></a>"
      ]
    },
    {
      "cell_type": "markdown",
      "metadata": {
        "id": "9SQqqqNOp2Yt",
        "colab_type": "text"
      },
      "source": [
        "# TP 1 : Scikit-Learn\n",
        "***Objectif: Apprendre à utiliser les librairies du machine learning***"
      ]
    },
    {
      "cell_type": "markdown",
      "metadata": {
        "id": "nkA57iw0p2Yx",
        "colab_type": "text"
      },
      "source": [
        "## NumPy array\n",
        "Toutes les données acceptées par Scikit-Learn sont converties en **NumPy array**. Sa structure de base est la classe **ndarray** qui est un vecteur (liste) à n-dimensions. Tous les éléments de la liste doivent être de même type."
      ]
    },
    {
      "cell_type": "code",
      "metadata": {
        "id": "bMO5HFRup2Yz",
        "colab_type": "code",
        "outputId": "9c2622f0-3ca6-4114-b1ef-77368e6573ea",
        "colab": {
          "base_uri": "https://localhost:8080/",
          "height": 156
        }
      },
      "source": [
        "import numpy as np\n",
        "\n",
        "x = np.array([[1, 2, 3], [4, 5, 6],[7, 8, 9],[10,11,12],[13,14,15],[16,17,18],[19,20,21]])\n",
        "print(\"x:\\n{}\".format(x))"
      ],
      "execution_count": 0,
      "outputs": [
        {
          "output_type": "stream",
          "text": [
            "x:\n",
            "[[ 1  2  3]\n",
            " [ 4  5  6]\n",
            " [ 7  8  9]\n",
            " [10 11 12]\n",
            " [13 14 15]\n",
            " [16 17 18]\n",
            " [19 20 21]]\n"
          ],
          "name": "stdout"
        }
      ]
    },
    {
      "cell_type": "code",
      "metadata": {
        "id": "69C0l554p2Y7",
        "colab_type": "code",
        "outputId": "8d9f1ae5-9d8e-4b89-88e7-a21ba947bddd",
        "colab": {
          "base_uri": "https://localhost:8080/",
          "height": 35
        }
      },
      "source": [
        "print(type(x))"
      ],
      "execution_count": 0,
      "outputs": [
        {
          "output_type": "stream",
          "text": [
            "<class 'numpy.ndarray'>\n"
          ],
          "name": "stdout"
        }
      ]
    },
    {
      "cell_type": "code",
      "metadata": {
        "id": "9wpu_7_fp2Y_",
        "colab_type": "code",
        "outputId": "2b1320c6-d084-433f-8897-203f89610e1e",
        "colab": {
          "base_uri": "https://localhost:8080/",
          "height": 35
        }
      },
      "source": [
        "print(x.shape)\n"
      ],
      "execution_count": 0,
      "outputs": [
        {
          "output_type": "stream",
          "text": [
            "(7, 3)\n"
          ],
          "name": "stdout"
        }
      ]
    },
    {
      "cell_type": "markdown",
      "metadata": {
        "id": "6PYZWjD-vhEp",
        "colab_type": "text"
      },
      "source": [
        "> Que représente la propriété ***shape*** ?\n",
        "\n",
        "\n",
        "\n"
      ]
    },
    {
      "cell_type": "markdown",
      "metadata": {
        "id": "UZk9v1rb-m6a",
        "colab_type": "text"
      },
      "source": [
        "> Utiliser `numpy` pour créer un vecteur de dimension (1,4) puis (4,1)\n",
        "\n",
        "> Utiliser `numpy` pour créer un vecteur (matrice) de dimension (3,2). Ne pas utiliser la fonction `np.mat()`"
      ]
    },
    {
      "cell_type": "markdown",
      "metadata": {
        "id": "728g-rGZ16P3",
        "colab_type": "text"
      },
      "source": [
        "> En utilisant les fonctions `np.arrange` ou `np.linespace`, générez une liste de $6$ *floats* compris entre $0$ et $\\frac{5}{3}$"
      ]
    },
    {
      "cell_type": "code",
      "metadata": {
        "id": "LMenskJ81-cA",
        "colab_type": "code",
        "colab": {}
      },
      "source": [
        ""
      ],
      "execution_count": 0,
      "outputs": []
    },
    {
      "cell_type": "code",
      "metadata": {
        "id": "nM2DBk_C2A3x",
        "colab_type": "code",
        "outputId": "87db8f73-7441-40cd-8d15-0fd79661fa98",
        "colab": {
          "base_uri": "https://localhost:8080/",
          "height": 69
        }
      },
      "source": [
        "np.random.rand(3,4)\n"
      ],
      "execution_count": 0,
      "outputs": [
        {
          "output_type": "execute_result",
          "data": {
            "text/plain": [
              "array([[0.67539451, 0.22643493, 0.34044933, 0.41538895],\n",
              "       [0.2115186 , 0.98285324, 0.74176447, 0.36931103],\n",
              "       [0.88125435, 0.95493532, 0.39915636, 0.60249922]])"
            ]
          },
          "metadata": {
            "tags": []
          },
          "execution_count": 40
        }
      ]
    },
    {
      "cell_type": "code",
      "metadata": {
        "id": "mf6ALwfJ2aUp",
        "colab_type": "code",
        "outputId": "7d463d47-f95c-4630-be0e-2967ad270ed6",
        "colab": {
          "base_uri": "https://localhost:8080/",
          "height": 69
        }
      },
      "source": [
        "np.random.randn(3,4)"
      ],
      "execution_count": 0,
      "outputs": [
        {
          "output_type": "execute_result",
          "data": {
            "text/plain": [
              "array([[-0.45996216,  0.02952639,  0.04448678, -0.21428417],\n",
              "       [ 0.82165014, -2.04086093, -0.44312339,  1.54756383],\n",
              "       [-0.44791272,  1.17952566,  1.68481247,  0.45031144]])"
            ]
          },
          "metadata": {
            "tags": []
          },
          "execution_count": 41
        }
      ]
    },
    {
      "cell_type": "markdown",
      "metadata": {
        "id": "67Z4WXFB22zy",
        "colab_type": "text"
      },
      "source": [
        "> Que réalise les deux fonctions `rand` et `randn` ?"
      ]
    },
    {
      "cell_type": "code",
      "metadata": {
        "id": "E12nq3333it4",
        "colab_type": "code",
        "outputId": "d2e20740-7cf8-4b97-fb99-447ccee771ce",
        "colab": {
          "base_uri": "https://localhost:8080/",
          "height": 295
        }
      },
      "source": [
        "%matplotlib inline\n",
        "import matplotlib.pyplot as plt\n",
        "plt.hist(np.random.rand(100000), density=True, bins=100, histtype=\"step\", color=\"blue\", label=\"rand\")\n",
        "plt.hist(np.random.randn(100000), density=True, bins=100, histtype=\"step\", color=\"red\", label=\"randn\")\n",
        "plt.axis([-2.5, 2.5, 0, 1.1])\n",
        "plt.legend(loc = \"upper left\")\n",
        "plt.title(\"Random distributions\")\n",
        "plt.xlabel(\"Value\")\n",
        "plt.ylabel(\"Density\")\n",
        "plt.show()"
      ],
      "execution_count": 0,
      "outputs": [
        {
          "output_type": "display_data",
          "data": {
            "image/png": "[encoded data removed]",
            "text/plain": [
              "<Figure size 432x288 with 1 Axes>"
            ]
          },
          "metadata": {
            "tags": []
          }
        }
      ]
    },
    {
      "cell_type": "markdown",
      "metadata": {
        "id": "Pp4Y-E133_zv",
        "colab_type": "text"
      },
      "source": [
        "> Quelle est la principale différence entre `rand` et `randn`?"
      ]
    },
    {
      "cell_type": "code",
      "metadata": {
        "id": "Sy7GznkDW9QZ",
        "colab_type": "code",
        "colab": {}
      },
      "source": [
        "vector = np.array([1, 2, 3, 4, 5, 6])\n",
        "\n",
        "# Create matrix\n",
        "matrix = np.array([[1, 2, 3],\n",
        "                   [4, 5, 6],\n",
        "                   [7, 8, 9]])\n"
      ],
      "execution_count": 0,
      "outputs": []
    },
    {
      "cell_type": "markdown",
      "metadata": {
        "id": "sb0JEamQXAtE",
        "colab_type": "text"
      },
      "source": [
        "> Sélectionner puis afficher tous les éléments du vecteur `vector`\n",
        "\n",
        "> Sélectionner puis afficher les éléments jusqu'au 3ème élément inclut du vecteur `vector`\n",
        "\n",
        ">  Sélectionner puis afficher les éléments à partir du 3ème élément inclut du vecteur `vector`\n",
        "\n",
        "> Sélectionner puis afficher l'avant dernier élément du vecteur `vector`\n",
        "\n",
        ">  Sélectionner les deux premières lignes et toutes les colonnes de la matrice \n",
        "> Sélectionner toutes les lignes et la seconde colonne\n",
        "\n",
        "> Calculer le max, min de chaque colonne de la matrice\n",
        "\n",
        "> Calculer la moyenne, la trace, le déterminant et le rang de la matrice\n",
        "\n",
        "> Calculer la transposer de la matrice\n",
        "\n",
        "> Transformer la matrice en une liste\n",
        "\n",
        "> Extraire la diagonal de la matrice\n"
      ]
    },
    {
      "cell_type": "markdown",
      "metadata": {
        "id": "XBOFB2tXp5Xf",
        "colab_type": "text"
      },
      "source": [
        "> Expliquez le code suivant :"
      ]
    },
    {
      "cell_type": "code",
      "metadata": {
        "id": "QAsoiWfAqBku",
        "colab_type": "code",
        "outputId": "3cf4c581-8c2e-400c-c374-aa7d4fee48b6",
        "colab": {
          "base_uri": "https://localhost:8080/",
          "height": 69
        }
      },
      "source": [
        "import numpy as np\n",
        "addition100 = lambda i : i + 100\n",
        "\n",
        "matrix = np.array([[1,2],\n",
        "                   [3,4],\n",
        "                  [5,6]])\n",
        "\n",
        "matrix_addtion = np.vectorize(addition100)\n",
        "matrix100 = matrix_addtion(matrix)\n",
        "print(matrix100)"
      ],
      "execution_count": 0,
      "outputs": [
        {
          "output_type": "stream",
          "text": [
            "[[101 102]\n",
            " [103 104]\n",
            " [105 106]]\n"
          ],
          "name": "stdout"
        }
      ]
    },
    {
      "cell_type": "markdown",
      "metadata": {
        "id": "WE5vahT0p2Zg",
        "colab_type": "text"
      },
      "source": [
        "## SciPy\n"
      ]
    },
    {
      "cell_type": "markdown",
      "metadata": {
        "id": "0to6uzRaVami",
        "colab_type": "text"
      },
      "source": [
        "> Génération d'une matrice composée que de 1 dans la diagonale et des 0 parout ailleurs "
      ]
    },
    {
      "cell_type": "code",
      "metadata": {
        "id": "2LAFLOSop2Zh",
        "colab_type": "code",
        "outputId": "daec5eb8-6b55-4a12-d8c8-1003eb943d57",
        "colab": {
          "base_uri": "https://localhost:8080/"
        }
      },
      "source": [
        "from scipy import sparse\n",
        "\n",
        "eye = np.eye(4,4,dtype=float,k=0)\n",
        "print(\"NumPy array:\\n\", eye)"
      ],
      "execution_count": 0,
      "outputs": [
        {
          "output_type": "stream",
          "text": [
            "NumPy array:\n",
            " [[1. 0. 0. 0.]\n",
            " [0. 1. 0. 0.]\n",
            " [0. 0. 1. 0.]\n",
            " [0. 0. 0. 1.]]\n"
          ],
          "name": "stdout"
        }
      ]
    },
    {
      "cell_type": "markdown",
      "metadata": {
        "id": "59q2K1jPp2Zl",
        "colab_type": "text"
      },
      "source": [
        "> Que réalise le code suivant:"
      ]
    },
    {
      "cell_type": "code",
      "metadata": {
        "id": "I6qThzRbp2Zm",
        "colab_type": "code",
        "outputId": "9f13dd39-d980-4728-e89f-2fe3b428725b",
        "colab": {
          "base_uri": "https://localhost:8080/"
        }
      },
      "source": [
        "sparse_matrix = sparse.csr_matrix(eye)\n",
        "print(\"\\nSciPy sparse CSR matrix:\\n\", sparse_matrix)"
      ],
      "execution_count": 0,
      "outputs": [
        {
          "output_type": "stream",
          "text": [
            "\n",
            "SciPy sparse CSR matrix:\n",
            "   (0, 0)\t1.0\n",
            "  (1, 1)\t1.0\n",
            "  (2, 2)\t1.0\n",
            "  (3, 3)\t1.0\n"
          ],
          "name": "stdout"
        }
      ]
    },
    {
      "cell_type": "markdown",
      "metadata": {
        "id": "9eSlLctvp2Zq",
        "colab_type": "text"
      },
      "source": [
        "> Modifiez k en 1 puis en -1, ensuite regénérez la matrice CSR."
      ]
    },
    {
      "cell_type": "code",
      "metadata": {
        "id": "le5l6RmHp2Zr",
        "colab_type": "code",
        "outputId": "ba67ef41-c788-45a5-8f30-0fb96401030f",
        "colab": {
          "base_uri": "https://localhost:8080/"
        }
      },
      "source": [
        "data = np.ones(4)\n",
        "row_indices = np.arange(4)\n",
        "col_indices = np.arange(4)\n",
        "eye_coo = sparse.coo_matrix((data, (row_indices, col_indices)))\n",
        "print(\"COO representation:\\n\", eye_coo)"
      ],
      "execution_count": 0,
      "outputs": [
        {
          "output_type": "stream",
          "text": [
            "COO representation:\n",
            "   (0, 0)\t1.0\n",
            "  (1, 1)\t1.0\n",
            "  (2, 2)\t1.0\n",
            "  (3, 3)\t1.0\n"
          ],
          "name": "stdout"
        }
      ]
    },
    {
      "cell_type": "markdown",
      "metadata": {
        "id": "v5RJ-F_mp2Zv",
        "colab_type": "text"
      },
      "source": [
        "Quelle est la différence avec la première méthode ?"
      ]
    },
    {
      "cell_type": "markdown",
      "metadata": {
        "id": "i3La0B_Ip2Zw",
        "colab_type": "text"
      },
      "source": [
        "## matplotlib"
      ]
    },
    {
      "cell_type": "markdown",
      "metadata": {
        "id": "NG76AXuA_dLe",
        "colab_type": "text"
      },
      "source": [
        "> C'est une librairie python pour la génération de graphiques"
      ]
    },
    {
      "cell_type": "code",
      "metadata": {
        "id": "viE1lEfpp2Zx",
        "colab_type": "code",
        "outputId": "602ca4ed-ef07-45f8-9563-e8c5e96438f1",
        "colab": {
          "base_uri": "https://localhost:8080/",
          "height": 283
        }
      },
      "source": [
        "%matplotlib inline\n",
        "#%matplotlib notebook\n",
        "import matplotlib.pyplot as plt\n",
        "\n",
        "x = np.linspace(-10, 10, 100)\n",
        "# Créer les valeurs de y en utilisant la fonction sign utilisé dans l'algorithme percertron\n",
        "y = np.sign(x)\n",
        "# Visualisation des données\n",
        "plt.plot(x, y, marker=\"+\")\n",
        "plt.show()\n",
        "plt.savefig(\"ma_sigmoid_fonction.png\", transparent=True)"
      ],
      "execution_count": 0,
      "outputs": [
        {
          "output_type": "display_data",
          "data": {
            "image/png": "[encoded data removed]",
            "text/plain": [
              "<Figure size 432x288 with 1 Axes>"
            ]
          },
          "metadata": {
            "tags": []
          }
        },
        {
          "output_type": "display_data",
          "data": {
            "text/plain": [
              "<Figure size 432x288 with 0 Axes>"
            ]
          },
          "metadata": {
            "tags": []
          }
        }
      ]
    },
    {
      "cell_type": "markdown",
      "metadata": {
        "id": "wGVMAQF8p2Z1",
        "colab_type": "text"
      },
      "source": [
        "> Ajouter une étiquette à chaque axe x et y\n",
        "\n",
        "> Ajouter un titre au graphique\n",
        "\n",
        "> Afficher les fonction suivantes : cos, sign, exp\n"
      ]
    },
    {
      "cell_type": "code",
      "metadata": {
        "id": "IfDd1bX1EtpZ",
        "colab_type": "code",
        "outputId": "64a01670-b3ab-4ebb-f619-d631dd49ec91",
        "colab": {
          "base_uri": "https://localhost:8080/",
          "height": 267
        }
      },
      "source": [
        "x = np.linspace(-1.4, 1.4, 30)\n",
        "plt.subplot(2, 2, 1)  \n",
        "plt.plot(x, x)\n",
        "plt.subplot(2, 2, 2) \n",
        "plt.plot(x, x**2)\n",
        "plt.subplot(2, 2, 3) \n",
        "plt.plot(x, x**3)\n",
        "plt.subplot(2, 2, 4)  \n",
        "plt.plot(x, x**4)\n",
        "plt.show()"
      ],
      "execution_count": 0,
      "outputs": [
        {
          "output_type": "display_data",
          "data": {
            "image/png": "[encoded data removed]",
            "text/plain": [
              "<Figure size 432x288 with 4 Axes>"
            ]
          },
          "metadata": {
            "tags": []
          }
        }
      ]
    },
    {
      "cell_type": "code",
      "metadata": {
        "id": "wms5Z3JP4M5E",
        "colab_type": "code",
        "outputId": "f05763dc-7862-4784-ef2c-d160791f3e12",
        "colab": {
          "base_uri": "https://localhost:8080/",
          "height": 353
        }
      },
      "source": [
        "x = np.linspace(-1.4, 1.4, 30)\n",
        "y = np.linspace(1, 10, 30)\n",
        "fig, ax = plt.subplots(nrows=2, ncols=2, figsize=(5,5))\n",
        "\n",
        "ax[0][0].set_xlim(-2,2)\n",
        "ax[0][0].set_xlabel(r'$x$')\n",
        "ax[0][0].set_ylabel(r'$y$')\n",
        "ax[0][0].set_title('Titre')\n",
        "\n",
        "\n",
        "ax[0][0].grid(True)\n",
        "ax[1][0].grid(True)\n",
        "\n",
        "\n",
        "ax[0][0].scatter(x, y, marker='+', s=4, color='g')\n",
        "\n",
        "ax[1][1].plot(y, x,'r--', lw=2, label=r'$toto$')\n"
      ],
      "execution_count": 0,
      "outputs": [
        {
          "output_type": "execute_result",
          "data": {
            "text/plain": [
              "[<matplotlib.lines.Line2D at 0x7f0f8e056d68>]"
            ]
          },
          "metadata": {
            "tags": []
          },
          "execution_count": 50
        },
        {
          "output_type": "display_data",
          "data": {
            "image/png": "[encoded data removed]",
            "text/plain": [
              "<Figure size 360x360 with 4 Axes>"
            ]
          },
          "metadata": {
            "tags": []
          }
        }
      ]
    },
    {
      "cell_type": "markdown",
      "metadata": {
        "id": "acihnW196GZw",
        "colab_type": "text"
      },
      "source": [
        "> Expliquez le fonctionnement de `subplot`"
      ]
    },
    {
      "cell_type": "code",
      "metadata": {
        "id": "_PSo0BLb6564",
        "colab_type": "code",
        "outputId": "d8f87a83-ce5e-4e4a-a572-0e02fe83e002",
        "colab": {
          "base_uri": "https://localhost:8080/",
          "height": 300
        }
      },
      "source": [
        "x = np.linspace(-1.5, 1.5, 30)\n",
        "px = 0.8\n",
        "py = px**2\n",
        "\n",
        "plt.plot(x, x**2, \"b-\", px, py, \"ro\")\n",
        "\n",
        "#plt.text(0, 1.5, \"Square function\\n$y = x^2$\", fontsize=20, color='blue', horizontalalignment=\"center\")\n",
        "#plt.text(px - 0.08, py, \"Beautiful point\", ha=\"right\", weight=\"heavy\")\n",
        "#plt.text(px, py, \"x = %0.2f\\ny = %0.2f\"%(px, py), rotation=50, color='gray')\n",
        "\n",
        "#plt.show()"
      ],
      "execution_count": 0,
      "outputs": [
        {
          "output_type": "execute_result",
          "data": {
            "text/plain": [
              "[<matplotlib.lines.Line2D at 0x7f0f8df8e898>,\n",
              " <matplotlib.lines.Line2D at 0x7f0f8df8e9e8>]"
            ]
          },
          "metadata": {
            "tags": []
          },
          "execution_count": 51
        },
        {
          "output_type": "display_data",
          "data": {
            "image/png": "[encoded data removed]",
            "text/plain": [
              "<Figure size 432x288 with 1 Axes>"
            ]
          },
          "metadata": {
            "tags": []
          }
        }
      ]
    },
    {
      "cell_type": "code",
      "metadata": {
        "id": "w-T1WuP2A0Ad",
        "colab_type": "code",
        "outputId": "2f306ff2-1789-49f0-9ae6-32e3f1b2d80d",
        "colab": {
          "base_uri": "https://localhost:8080/",
          "height": 265
        }
      },
      "source": [
        "plt.plot(x, x**2, px, py, \"ro\")\n",
        "plt.annotate(\"Beautiful point\", xy=(px, py), xytext=(px-1.5,py+0.5),\n",
        "                           color=\"green\", weight=\"heavy\", fontsize=14,\n",
        "                           arrowprops={\"facecolor\": \"lightgreen\"})\n",
        "plt.show()"
      ],
      "execution_count": 0,
      "outputs": [
        {
          "output_type": "display_data",
          "data": {
            "image/png": "[encoded data removed]",
            "text/plain": [
              "<Figure size 432x288 with 1 Axes>"
            ]
          },
          "metadata": {
            "tags": []
          }
        }
      ]
    },
    {
      "cell_type": "markdown",
      "metadata": {
        "id": "ZuZTaG0Op2Z2",
        "colab_type": "text"
      },
      "source": [
        "## Pandas\n",
        "\n",
        "Objectifs d'apprentissage :\n",
        "\n",
        "- Introduction aux structures de données `DataFrame` et `Series` de la bibliothèque Pandas \n",
        "- Accéder aux données et les manipuler dans une structure `DataFrame` et `Series`\n",
        "- Importer des données d'un fichier CSV dans un `DataFrame` Pandas\n",
        "- Réindexer un `DataFrame` pour mélanger les données\n",
        "\n",
        "Pandas est une API d'analyse de données orientée colonnes. C'est un excellent outil pour manipuler et analyser des données d'entrée.\n",
        "\n",
        "Beaucoup de frameworks d'apprentissage automatique acceptent les structures de données Pandas en entrée. \n",
        "\n"
      ]
    },
    {
      "cell_type": "markdown",
      "metadata": {
        "id": "ZjNzQt5_mlKY",
        "colab_type": "text"
      },
      "source": [
        "On distingue deux grandes catégories de structures de données Pandas :\n",
        "\n",
        "1. Le `DataFrame`, un tableau relationnel de données, avec des lignes et des colonnes étiquetées\n",
        "1. La `Series`, constituée d'une seule colonne. \n",
        "\n",
        "Un DataFrame contient une ou plusieurs Series, chacune étant étiquetée."
      ]
    },
    {
      "cell_type": "markdown",
      "metadata": {
        "id": "WTTuyMBvn-nn",
        "colab_type": "text"
      },
      "source": [
        "Pour créer une Series, vous pouvez notamment créer un objet Series. Par exemple :"
      ]
    },
    {
      "cell_type": "code",
      "metadata": {
        "id": "3yhQ0C2noBFh",
        "colab_type": "code",
        "colab": {
          "base_uri": "https://localhost:8080/",
          "height": 87
        },
        "outputId": "524033c1-b2b8-468c-fee0-0ddea0982263"
      },
      "source": [
        "import pandas as pd\n",
        "from IPython.display import display\n",
        "\n",
        "pd.Series(['San Francisco', 'San Jose', 'Sacramento'])"
      ],
      "execution_count": 1,
      "outputs": [
        {
          "output_type": "execute_result",
          "data": {
            "text/plain": [
              "0    San Francisco\n",
              "1         San Jose\n",
              "2       Sacramento\n",
              "dtype: object"
            ]
          },
          "metadata": {
            "tags": []
          },
          "execution_count": 1
        }
      ]
    },
    {
      "cell_type": "markdown",
      "metadata": {
        "id": "C32qlRkJojDR",
        "colab_type": "text"
      },
      "source": [
        "Pour créer un `DataFrame`, nous pouvons procéder de deux manières différentes:\n",
        "1. Il est possible de créer des objets `DataFrame` en transmettant un dictionnaire qui met en correspondance les noms de colonnes (des chaînes de caractères) avec leur `Series` respective. Lorsque la longueur de la Series ne correspond pas, les valeurs manquantes sont remplacées par des valeurs `NA/NaN` spéciales. Exemple :"
      ]
    },
    {
      "cell_type": "code",
      "metadata": {
        "id": "UefwgR8co6u0",
        "colab_type": "code",
        "colab": {
          "base_uri": "https://localhost:8080/",
          "height": 414
        },
        "outputId": "b00aebe7-2b19-427a-bec2-d2f317d36a78"
      },
      "source": [
        "names = pd.Series([\"John\", \"Anna\", \"Peter\", \"Linda\"])\n",
        "locations = pd.Series([\"New York\", \"Paris\", \"Berlin\", \"London\"])\n",
        "ages = pd.Series([24, 13, 53, 33])\n",
        "data_pandas = pd.DataFrame({ 'Name': names, 'Location': locations, 'Age' : ages })\n",
        "print(data_pandas.head())\n",
        "print(data_pandas.describe())\n",
        "display(data_pandas)"
      ],
      "execution_count": 6,
      "outputs": [
        {
          "output_type": "stream",
          "text": [
            "    Name  Location  Age\n",
            "0   John  New York   24\n",
            "1   Anna     Paris   13\n",
            "2  Peter    Berlin   53\n",
            "3  Linda    London   33\n",
            "             Age\n",
            "count   4.000000\n",
            "mean   30.750000\n",
            "std    16.938615\n",
            "min    13.000000\n",
            "25%    21.250000\n",
            "50%    28.500000\n",
            "75%    38.000000\n",
            "max    53.000000\n"
          ],
          "name": "stdout"
        },
        {
          "output_type": "display_data",
          "data": {
            "text/html": [
              "<div>\n",
              "<style scoped>\n",
              "    .dataframe tbody tr th:only-of-type {\n",
              "        vertical-align: middle;\n",
              "    }\n",
              "\n",
              "    .dataframe tbody tr th {\n",
              "        vertical-align: top;\n",
              "    }\n",
              "\n",
              "    .dataframe thead th {\n",
              "        text-align: right;\n",
              "    }\n",
              "</style>\n",
              "<table border=\"1\" class=\"dataframe\">\n",
              "  <thead>\n",
              "    <tr style=\"text-align: right;\">\n",
              "      <th></th>\n",
              "      <th>Name</th>\n",
              "      <th>Location</th>\n",
              "      <th>Age</th>\n",
              "    </tr>\n",
              "  </thead>\n",
              "  <tbody>\n",
              "    <tr>\n",
              "      <th>0</th>\n",
              "      <td>John</td>\n",
              "      <td>New York</td>\n",
              "      <td>24</td>\n",
              "    </tr>\n",
              "    <tr>\n",
              "      <th>1</th>\n",
              "      <td>Anna</td>\n",
              "      <td>Paris</td>\n",
              "      <td>13</td>\n",
              "    </tr>\n",
              "    <tr>\n",
              "      <th>2</th>\n",
              "      <td>Peter</td>\n",
              "      <td>Berlin</td>\n",
              "      <td>53</td>\n",
              "    </tr>\n",
              "    <tr>\n",
              "      <th>3</th>\n",
              "      <td>Linda</td>\n",
              "      <td>London</td>\n",
              "      <td>33</td>\n",
              "    </tr>\n",
              "  </tbody>\n",
              "</table>\n",
              "</div>"
            ],
            "text/plain": [
              "    Name  Location  Age\n",
              "0   John  New York   24\n",
              "1   Anna     Paris   13\n",
              "2  Peter    Berlin   53\n",
              "3  Linda    London   33"
            ]
          },
          "metadata": {
            "tags": []
          }
        }
      ]
    },
    {
      "cell_type": "markdown",
      "metadata": {
        "id": "-6kGIpRxpoQk",
        "colab_type": "text"
      },
      "source": [
        "2. Sans passer par les `Series` en utilisant de simples listes"
      ]
    },
    {
      "cell_type": "code",
      "metadata": {
        "id": "qoK0Km59p2Z2",
        "colab_type": "code",
        "outputId": "2e7afb0b-74e2-4e1e-cc65-ce221f3b95c8",
        "colab": {
          "base_uri": "https://localhost:8080/",
          "height": 171
        }
      },
      "source": [
        "\n",
        "\n",
        "# create a simple dataset of people\n",
        "data = {'Name': [\"John\", \"Anna\", \"Peter\", \"Linda\"],\n",
        "        'Location' : [\"New York\", \"Paris\", \"Berlin\", \"London\"],\n",
        "        'Age' : [24, 13, 53, 33]\n",
        "       }\n",
        "\n",
        "data_pandas = pd.DataFrame(data)\n",
        "\n",
        "display(data_pandas)"
      ],
      "execution_count": 0,
      "outputs": [
        {
          "output_type": "display_data",
          "data": {
            "text/html": [
              "<div>\n",
              "<style scoped>\n",
              "    .dataframe tbody tr th:only-of-type {\n",
              "        vertical-align: middle;\n",
              "    }\n",
              "\n",
              "    .dataframe tbody tr th {\n",
              "        vertical-align: top;\n",
              "    }\n",
              "\n",
              "    .dataframe thead th {\n",
              "        text-align: right;\n",
              "    }\n",
              "</style>\n",
              "<table border=\"1\" class=\"dataframe\">\n",
              "  <thead>\n",
              "    <tr style=\"text-align: right;\">\n",
              "      <th></th>\n",
              "      <th>Name</th>\n",
              "      <th>Location</th>\n",
              "      <th>Age</th>\n",
              "    </tr>\n",
              "  </thead>\n",
              "  <tbody>\n",
              "    <tr>\n",
              "      <th>0</th>\n",
              "      <td>John</td>\n",
              "      <td>New York</td>\n",
              "      <td>24</td>\n",
              "    </tr>\n",
              "    <tr>\n",
              "      <th>1</th>\n",
              "      <td>Anna</td>\n",
              "      <td>Paris</td>\n",
              "      <td>13</td>\n",
              "    </tr>\n",
              "    <tr>\n",
              "      <th>2</th>\n",
              "      <td>Peter</td>\n",
              "      <td>Berlin</td>\n",
              "      <td>53</td>\n",
              "    </tr>\n",
              "    <tr>\n",
              "      <th>3</th>\n",
              "      <td>Linda</td>\n",
              "      <td>London</td>\n",
              "      <td>33</td>\n",
              "    </tr>\n",
              "  </tbody>\n",
              "</table>\n",
              "</div>"
            ],
            "text/plain": [
              "    Name  Location  Age\n",
              "0   John  New York   24\n",
              "1   Anna     Paris   13\n",
              "2  Peter    Berlin   53\n",
              "3  Linda    London   33"
            ]
          },
          "metadata": {
            "tags": []
          }
        }
      ]
    },
    {
      "cell_type": "code",
      "metadata": {
        "id": "LaS4hPJ_p2Z5",
        "colab_type": "code",
        "outputId": "8a028fbd-2416-43ed-e87d-c33b19da7c8d",
        "colab": {
          "base_uri": "https://localhost:8080/",
          "height": 79
        }
      },
      "source": [
        "# Select all rows that have an age column greater than 30\n",
        "display(data_pandas[data_pandas.Name == \"Anna\"])"
      ],
      "execution_count": 0,
      "outputs": [
        {
          "output_type": "display_data",
          "data": {
            "text/html": [
              "<div>\n",
              "<style scoped>\n",
              "    .dataframe tbody tr th:only-of-type {\n",
              "        vertical-align: middle;\n",
              "    }\n",
              "\n",
              "    .dataframe tbody tr th {\n",
              "        vertical-align: top;\n",
              "    }\n",
              "\n",
              "    .dataframe thead th {\n",
              "        text-align: right;\n",
              "    }\n",
              "</style>\n",
              "<table border=\"1\" class=\"dataframe\">\n",
              "  <thead>\n",
              "    <tr style=\"text-align: right;\">\n",
              "      <th></th>\n",
              "      <th>Name</th>\n",
              "      <th>Location</th>\n",
              "      <th>Age</th>\n",
              "    </tr>\n",
              "  </thead>\n",
              "  <tbody>\n",
              "    <tr>\n",
              "      <th>1</th>\n",
              "      <td>Anna</td>\n",
              "      <td>Paris</td>\n",
              "      <td>13</td>\n",
              "    </tr>\n",
              "  </tbody>\n",
              "</table>\n",
              "</div>"
            ],
            "text/plain": [
              "   Name Location  Age\n",
              "1  Anna    Paris   13"
            ]
          },
          "metadata": {
            "tags": []
          }
        }
      ]
    },
    {
      "cell_type": "markdown",
      "metadata": {
        "id": "GDlsKGPCp2Z7",
        "colab_type": "text"
      },
      "source": [
        "> Requêtes : \n",
        "- la liste"
      ]
    },
    {
      "cell_type": "code",
      "metadata": {
        "id": "GPd_-c3Vp2Z8",
        "colab_type": "code",
        "outputId": "7cce5163-736b-4762-b72f-ce25d6f686a3",
        "colab": {
          "base_uri": "https://localhost:8080/",
          "height": 398
        }
      },
      "source": [
        "ramprice = pd.read_csv('ram_price.csv',delimiter=',')\n",
        "display(ramprice)"
      ],
      "execution_count": 0,
      "outputs": [
        {
          "output_type": "error",
          "ename": "FileNotFoundError",
          "evalue": "ignored",
          "traceback": [
            "\u001b[0;31m---------------------------------------------------------------------------\u001b[0m",
            "\u001b[0;31mFileNotFoundError\u001b[0m                         Traceback (most recent call last)",
            "\u001b[0;32m<ipython-input-55-551886744ea7>\u001b[0m in \u001b[0;36m<module>\u001b[0;34m()\u001b[0m\n\u001b[0;32m----> 1\u001b[0;31m \u001b[0mramprice\u001b[0m \u001b[0;34m=\u001b[0m \u001b[0mpd\u001b[0m\u001b[0;34m.\u001b[0m\u001b[0mread_csv\u001b[0m\u001b[0;34m(\u001b[0m\u001b[0;34m'ram_price.csv'\u001b[0m\u001b[0;34m,\u001b[0m\u001b[0mdelimiter\u001b[0m\u001b[0;34m=\u001b[0m\u001b[0;34m','\u001b[0m\u001b[0;34m)\u001b[0m\u001b[0;34m\u001b[0m\u001b[0;34m\u001b[0m\u001b[0m\n\u001b[0m\u001b[1;32m      2\u001b[0m \u001b[0mdisplay\u001b[0m\u001b[0;34m(\u001b[0m\u001b[0mramprice\u001b[0m\u001b[0;34m)\u001b[0m\u001b[0;34m\u001b[0m\u001b[0;34m\u001b[0m\u001b[0m\n",
            "\u001b[0;32m/usr/local/lib/python3.6/dist-packages/pandas/io/parsers.py\u001b[0m in \u001b[0;36mparser_f\u001b[0;34m(filepath_or_buffer, sep, delimiter, header, names, index_col, usecols, squeeze, prefix, mangle_dupe_cols, dtype, engine, converters, true_values, false_values, skipinitialspace, skiprows, skipfooter, nrows, na_values, keep_default_na, na_filter, verbose, skip_blank_lines, parse_dates, infer_datetime_format, keep_date_col, date_parser, dayfirst, cache_dates, iterator, chunksize, compression, thousands, decimal, lineterminator, quotechar, quoting, doublequote, escapechar, comment, encoding, dialect, error_bad_lines, warn_bad_lines, delim_whitespace, low_memory, memory_map, float_precision)\u001b[0m\n\u001b[1;32m    683\u001b[0m         )\n\u001b[1;32m    684\u001b[0m \u001b[0;34m\u001b[0m\u001b[0m\n\u001b[0;32m--> 685\u001b[0;31m         \u001b[0;32mreturn\u001b[0m \u001b[0m_read\u001b[0m\u001b[0;34m(\u001b[0m\u001b[0mfilepath_or_buffer\u001b[0m\u001b[0;34m,\u001b[0m \u001b[0mkwds\u001b[0m\u001b[0;34m)\u001b[0m\u001b[0;34m\u001b[0m\u001b[0;34m\u001b[0m\u001b[0m\n\u001b[0m\u001b[1;32m    686\u001b[0m \u001b[0;34m\u001b[0m\u001b[0m\n\u001b[1;32m    687\u001b[0m     \u001b[0mparser_f\u001b[0m\u001b[0;34m.\u001b[0m\u001b[0m__name__\u001b[0m \u001b[0;34m=\u001b[0m \u001b[0mname\u001b[0m\u001b[0;34m\u001b[0m\u001b[0;34m\u001b[0m\u001b[0m\n",
            "\u001b[0;32m/usr/local/lib/python3.6/dist-packages/pandas/io/parsers.py\u001b[0m in \u001b[0;36m_read\u001b[0;34m(filepath_or_buffer, kwds)\u001b[0m\n\u001b[1;32m    455\u001b[0m \u001b[0;34m\u001b[0m\u001b[0m\n\u001b[1;32m    456\u001b[0m     \u001b[0;31m# Create the parser.\u001b[0m\u001b[0;34m\u001b[0m\u001b[0;34m\u001b[0m\u001b[0;34m\u001b[0m\u001b[0m\n\u001b[0;32m--> 457\u001b[0;31m     \u001b[0mparser\u001b[0m \u001b[0;34m=\u001b[0m \u001b[0mTextFileReader\u001b[0m\u001b[0;34m(\u001b[0m\u001b[0mfp_or_buf\u001b[0m\u001b[0;34m,\u001b[0m \u001b[0;34m**\u001b[0m\u001b[0mkwds\u001b[0m\u001b[0;34m)\u001b[0m\u001b[0;34m\u001b[0m\u001b[0;34m\u001b[0m\u001b[0m\n\u001b[0m\u001b[1;32m    458\u001b[0m \u001b[0;34m\u001b[0m\u001b[0m\n\u001b[1;32m    459\u001b[0m     \u001b[0;32mif\u001b[0m \u001b[0mchunksize\u001b[0m \u001b[0;32mor\u001b[0m \u001b[0miterator\u001b[0m\u001b[0;34m:\u001b[0m\u001b[0;34m\u001b[0m\u001b[0;34m\u001b[0m\u001b[0m\n",
            "\u001b[0;32m/usr/local/lib/python3.6/dist-packages/pandas/io/parsers.py\u001b[0m in \u001b[0;36m__init__\u001b[0;34m(self, f, engine, **kwds)\u001b[0m\n\u001b[1;32m    893\u001b[0m             \u001b[0mself\u001b[0m\u001b[0;34m.\u001b[0m\u001b[0moptions\u001b[0m\u001b[0;34m[\u001b[0m\u001b[0;34m\"has_index_names\"\u001b[0m\u001b[0;34m]\u001b[0m \u001b[0;34m=\u001b[0m \u001b[0mkwds\u001b[0m\u001b[0;34m[\u001b[0m\u001b[0;34m\"has_index_names\"\u001b[0m\u001b[0;34m]\u001b[0m\u001b[0;34m\u001b[0m\u001b[0;34m\u001b[0m\u001b[0m\n\u001b[1;32m    894\u001b[0m \u001b[0;34m\u001b[0m\u001b[0m\n\u001b[0;32m--> 895\u001b[0;31m         \u001b[0mself\u001b[0m\u001b[0;34m.\u001b[0m\u001b[0m_make_engine\u001b[0m\u001b[0;34m(\u001b[0m\u001b[0mself\u001b[0m\u001b[0;34m.\u001b[0m\u001b[0mengine\u001b[0m\u001b[0;34m)\u001b[0m\u001b[0;34m\u001b[0m\u001b[0;34m\u001b[0m\u001b[0m\n\u001b[0m\u001b[1;32m    896\u001b[0m \u001b[0;34m\u001b[0m\u001b[0m\n\u001b[1;32m    897\u001b[0m     \u001b[0;32mdef\u001b[0m \u001b[0mclose\u001b[0m\u001b[0;34m(\u001b[0m\u001b[0mself\u001b[0m\u001b[0;34m)\u001b[0m\u001b[0;34m:\u001b[0m\u001b[0;34m\u001b[0m\u001b[0;34m\u001b[0m\u001b[0m\n",
            "\u001b[0;32m/usr/local/lib/python3.6/dist-packages/pandas/io/parsers.py\u001b[0m in \u001b[0;36m_make_engine\u001b[0;34m(self, engine)\u001b[0m\n\u001b[1;32m   1133\u001b[0m     \u001b[0;32mdef\u001b[0m \u001b[0m_make_engine\u001b[0m\u001b[0;34m(\u001b[0m\u001b[0mself\u001b[0m\u001b[0;34m,\u001b[0m \u001b[0mengine\u001b[0m\u001b[0;34m=\u001b[0m\u001b[0;34m\"c\"\u001b[0m\u001b[0;34m)\u001b[0m\u001b[0;34m:\u001b[0m\u001b[0;34m\u001b[0m\u001b[0;34m\u001b[0m\u001b[0m\n\u001b[1;32m   1134\u001b[0m         \u001b[0;32mif\u001b[0m \u001b[0mengine\u001b[0m \u001b[0;34m==\u001b[0m \u001b[0;34m\"c\"\u001b[0m\u001b[0;34m:\u001b[0m\u001b[0;34m\u001b[0m\u001b[0;34m\u001b[0m\u001b[0m\n\u001b[0;32m-> 1135\u001b[0;31m             \u001b[0mself\u001b[0m\u001b[0;34m.\u001b[0m\u001b[0m_engine\u001b[0m \u001b[0;34m=\u001b[0m \u001b[0mCParserWrapper\u001b[0m\u001b[0;34m(\u001b[0m\u001b[0mself\u001b[0m\u001b[0;34m.\u001b[0m\u001b[0mf\u001b[0m\u001b[0;34m,\u001b[0m \u001b[0;34m**\u001b[0m\u001b[0mself\u001b[0m\u001b[0;34m.\u001b[0m\u001b[0moptions\u001b[0m\u001b[0;34m)\u001b[0m\u001b[0;34m\u001b[0m\u001b[0;34m\u001b[0m\u001b[0m\n\u001b[0m\u001b[1;32m   1136\u001b[0m         \u001b[0;32melse\u001b[0m\u001b[0;34m:\u001b[0m\u001b[0;34m\u001b[0m\u001b[0;34m\u001b[0m\u001b[0m\n\u001b[1;32m   1137\u001b[0m             \u001b[0;32mif\u001b[0m \u001b[0mengine\u001b[0m \u001b[0;34m==\u001b[0m \u001b[0;34m\"python\"\u001b[0m\u001b[0;34m:\u001b[0m\u001b[0;34m\u001b[0m\u001b[0;34m\u001b[0m\u001b[0m\n",
            "\u001b[0;32m/usr/local/lib/python3.6/dist-packages/pandas/io/parsers.py\u001b[0m in \u001b[0;36m__init__\u001b[0;34m(self, src, **kwds)\u001b[0m\n\u001b[1;32m   1915\u001b[0m         \u001b[0mkwds\u001b[0m\u001b[0;34m[\u001b[0m\u001b[0;34m\"usecols\"\u001b[0m\u001b[0;34m]\u001b[0m \u001b[0;34m=\u001b[0m \u001b[0mself\u001b[0m\u001b[0;34m.\u001b[0m\u001b[0musecols\u001b[0m\u001b[0;34m\u001b[0m\u001b[0;34m\u001b[0m\u001b[0m\n\u001b[1;32m   1916\u001b[0m \u001b[0;34m\u001b[0m\u001b[0m\n\u001b[0;32m-> 1917\u001b[0;31m         \u001b[0mself\u001b[0m\u001b[0;34m.\u001b[0m\u001b[0m_reader\u001b[0m \u001b[0;34m=\u001b[0m \u001b[0mparsers\u001b[0m\u001b[0;34m.\u001b[0m\u001b[0mTextReader\u001b[0m\u001b[0;34m(\u001b[0m\u001b[0msrc\u001b[0m\u001b[0;34m,\u001b[0m \u001b[0;34m**\u001b[0m\u001b[0mkwds\u001b[0m\u001b[0;34m)\u001b[0m\u001b[0;34m\u001b[0m\u001b[0;34m\u001b[0m\u001b[0m\n\u001b[0m\u001b[1;32m   1918\u001b[0m         \u001b[0mself\u001b[0m\u001b[0;34m.\u001b[0m\u001b[0munnamed_cols\u001b[0m \u001b[0;34m=\u001b[0m \u001b[0mself\u001b[0m\u001b[0;34m.\u001b[0m\u001b[0m_reader\u001b[0m\u001b[0;34m.\u001b[0m\u001b[0munnamed_cols\u001b[0m\u001b[0;34m\u001b[0m\u001b[0;34m\u001b[0m\u001b[0m\n\u001b[1;32m   1919\u001b[0m \u001b[0;34m\u001b[0m\u001b[0m\n",
            "\u001b[0;32mpandas/_libs/parsers.pyx\u001b[0m in \u001b[0;36mpandas._libs.parsers.TextReader.__cinit__\u001b[0;34m()\u001b[0m\n",
            "\u001b[0;32mpandas/_libs/parsers.pyx\u001b[0m in \u001b[0;36mpandas._libs.parsers.TextReader._setup_parser_source\u001b[0;34m()\u001b[0m\n",
            "\u001b[0;31mFileNotFoundError\u001b[0m: [Errno 2] File b'ram_price.csv' does not exist: b'ram_price.csv'"
          ]
        }
      ]
    },
    {
      "cell_type": "code",
      "metadata": {
        "id": "ryiSCkXRp2Z-",
        "colab_type": "code",
        "colab": {}
      },
      "source": [
        "display(ramprice[ramprice.price < 4])"
      ],
      "execution_count": 0,
      "outputs": []
    },
    {
      "cell_type": "code",
      "metadata": {
        "id": "f009a81Zp2aD",
        "colab_type": "code",
        "colab": {}
      },
      "source": [
        "column_names = ['num','date','prix']\n",
        "ramprice = pd.read_csv('ram_price.csv',delimiter=',', names = column_names)\n",
        "display(ramprice.head())"
      ],
      "execution_count": 0,
      "outputs": []
    },
    {
      "cell_type": "code",
      "metadata": {
        "id": "bLKnCpEsp2aF",
        "colab_type": "code",
        "colab": {}
      },
      "source": [
        "display(ramprice.tail())"
      ],
      "execution_count": 0,
      "outputs": []
    },
    {
      "cell_type": "code",
      "metadata": {
        "id": "ftCvHS03p2aH",
        "colab_type": "code",
        "colab": {}
      },
      "source": [
        "display(ramprice.sample(2))"
      ],
      "execution_count": 0,
      "outputs": []
    },
    {
      "cell_type": "code",
      "metadata": {
        "id": "HXP7J33Ip2aK",
        "colab_type": "code",
        "colab": {}
      },
      "source": [
        "display(ramprice['prix'])"
      ],
      "execution_count": 0,
      "outputs": []
    },
    {
      "cell_type": "code",
      "metadata": {
        "id": "h0KNgCpmp2aM",
        "colab_type": "code",
        "colab": {}
      },
      "source": [
        "display(ramprice.prix)"
      ],
      "execution_count": 0,
      "outputs": []
    },
    {
      "cell_type": "markdown",
      "metadata": {
        "id": "ne4baVb2p2aP",
        "colab_type": "text"
      },
      "source": [
        "## 1ère application : Classifier les espèces d'Iris \n",
        "![sepal_petal](iris_petal_sepal.png)\n",
        "#### Chargement des données"
      ]
    },
    {
      "cell_type": "code",
      "metadata": {
        "id": "ZSIUQ4osp2aP",
        "colab_type": "code",
        "colab": {}
      },
      "source": [
        "from sklearn.datasets import load_iris\n",
        "iris_dataset = load_iris()\n",
        "print(\"Keys of iris_dataset:\\n\", iris_dataset.keys())"
      ],
      "execution_count": 0,
      "outputs": []
    },
    {
      "cell_type": "markdown",
      "metadata": {
        "id": "2crhKKr5p2aU",
        "colab_type": "text"
      },
      "source": [
        "> Q. Afficher:\n",
        "- les noms des attributs\n",
        "- le noms (codes) des classes \n",
        "- le noms des labels\n",
        "- la valeur de chaque attribut d'un individu et sa classe associée\n",
        "\n",
        "> Quel est le type d'algorithmes souhaitables pour ce type de données ?"
      ]
    },
    {
      "cell_type": "code",
      "metadata": {
        "id": "vAdQKNVzp2aW",
        "colab_type": "code",
        "colab": {}
      },
      "source": [
        "print(\"Type of data:\", type(iris_dataset['data']))"
      ],
      "execution_count": 0,
      "outputs": []
    },
    {
      "cell_type": "code",
      "metadata": {
        "id": "E0-lD86ip2ab",
        "colab_type": "code",
        "colab": {}
      },
      "source": [
        "print(\"Shape of data:\", iris_dataset['data'].shape)"
      ],
      "execution_count": 0,
      "outputs": []
    },
    {
      "cell_type": "code",
      "metadata": {
        "id": "0AscnTOOp2ad",
        "colab_type": "code",
        "colab": {}
      },
      "source": [
        "print(\"First five rows of data:\\n\", iris_dataset['data'][:5])"
      ],
      "execution_count": 0,
      "outputs": []
    },
    {
      "cell_type": "markdown",
      "metadata": {
        "id": "zhs56LqIp2ag",
        "colab_type": "text"
      },
      "source": [
        "### Données d'entrainements et de test (training and testing data)"
      ]
    },
    {
      "cell_type": "code",
      "metadata": {
        "id": "zgV2i6xZp2ag",
        "colab_type": "code",
        "colab": {}
      },
      "source": [
        "from sklearn.model_selection import train_test_split\n",
        "X_train, X_test, y_train, y_test = train_test_split(iris_dataset['data'], iris_dataset['target'], random_state=1)\n",
        "print(X_test[:10])"
      ],
      "execution_count": 0,
      "outputs": []
    },
    {
      "cell_type": "code",
      "metadata": {
        "id": "zkYvGD3Ip2aj",
        "colab_type": "code",
        "colab": {}
      },
      "source": [
        "from sklearn.model_selection import train_test_split\n",
        "X_train, X_test, y_train, y_test = train_test_split(iris_dataset['data'], iris_dataset['target'], random_state=2)\n",
        "print(X_test[:10])"
      ],
      "execution_count": 0,
      "outputs": []
    },
    {
      "cell_type": "code",
      "metadata": {
        "id": "-RZPp3A9p2al",
        "colab_type": "code",
        "colab": {}
      },
      "source": [
        "rom sklearn.model_selection import train_test_split\n",
        "X_train, X_test, y_train, y_test = train_test_split(iris_dataset['data'], iris_dataset['target'])\n",
        "print(X_test[:10])"
      ],
      "execution_count": 0,
      "outputs": []
    },
    {
      "cell_type": "markdown",
      "metadata": {
        "id": "XyhJo540p2an",
        "colab_type": "text"
      },
      "source": [
        "> Exécutez plusieurs fois les codes ci-dessus, Quel est le rôle du paramètre random_state"
      ]
    },
    {
      "cell_type": "code",
      "metadata": {
        "id": "68LZf1Rgp2ao",
        "colab_type": "code",
        "colab": {}
      },
      "source": [
        "print(iris_dataset['data'].shape)\n",
        "print(X_train.shape,y_train.shape)\n",
        "print(X_test.shape,y_test.shape)"
      ],
      "execution_count": 0,
      "outputs": []
    },
    {
      "cell_type": "markdown",
      "metadata": {
        "id": "HPX9oZcyp2aq",
        "colab_type": "text"
      },
      "source": [
        "> Quel est le pourcentage de lignes (individus) choisi pour le jeux de données de test et d'entrainements"
      ]
    },
    {
      "cell_type": "markdown",
      "metadata": {
        "id": "HRq914bGp2aq",
        "colab_type": "text"
      },
      "source": [
        "### Analyser graphiquement les données"
      ]
    },
    {
      "cell_type": "code",
      "metadata": {
        "id": "IDNv6ACep2ar",
        "colab_type": "code",
        "colab": {}
      },
      "source": [
        "# create dataframe from data in X_train\n",
        "# label the columns using the strings in iris_dataset.feature_names\n",
        "iris_dataframe = pd.DataFrame(X_train, columns=iris_dataset.feature_names)\n",
        "# create a scatter matrix from the dataframe, color by y_train\n",
        "pd.plotting.scatter_matrix(iris_dataframe, c=y_train, figsize=(15, 15),\n",
        "                           marker='o', hist_kwds={'bins': 20}, s=60,\n",
        "                           alpha=.8)"
      ],
      "execution_count": 0,
      "outputs": []
    },
    {
      "cell_type": "markdown",
      "metadata": {
        "id": "pkm8URzQp2au",
        "colab_type": "text"
      },
      "source": [
        "### 1er modèle : k-Nearest Neighbors"
      ]
    },
    {
      "cell_type": "code",
      "metadata": {
        "id": "u8znDfvsp2av",
        "colab_type": "code",
        "colab": {}
      },
      "source": [
        "from sklearn.neighbors import KNeighborsClassifier\n",
        "knn = KNeighborsClassifier(n_neighbors=1)\n",
        "knn.fit(X_train,y_train)"
      ],
      "execution_count": 0,
      "outputs": []
    },
    {
      "cell_type": "code",
      "metadata": {
        "id": "VwaeOpdQp2ax",
        "colab_type": "code",
        "colab": {}
      },
      "source": [
        "X_new = np.array([[5, 2.9, 1, 0.2]])\n",
        "prediction = knn.predict(X_new)\n",
        "print(\"Prediction:\", prediction)\n",
        "print(\"Predicted target name:\",\n",
        "       iris_dataset['target_names'][prediction])"
      ],
      "execution_count": 0,
      "outputs": []
    },
    {
      "cell_type": "code",
      "metadata": {
        "id": "DZRPHHimp2a0",
        "colab_type": "code",
        "colab": {}
      },
      "source": [
        "y_eval = knn.predict(X_test)\n",
        "print(y_eval)"
      ],
      "execution_count": 0,
      "outputs": []
    },
    {
      "cell_type": "code",
      "metadata": {
        "id": "ApSI-CHCp2a2",
        "colab_type": "code",
        "colab": {}
      },
      "source": [
        "\"Test set score: {:.2f}\".format(np.mean(y_eval == y_test))"
      ],
      "execution_count": 0,
      "outputs": []
    },
    {
      "cell_type": "code",
      "metadata": {
        "id": "vm4NFzfSp2a4",
        "colab_type": "code",
        "colab": {}
      },
      "source": [
        "print(\"Test set score: {:.2f}\".format(knn.score(X_test, y_test)))"
      ],
      "execution_count": 0,
      "outputs": []
    },
    {
      "cell_type": "markdown",
      "metadata": {
        "id": "cY9Dm-tAp2a6",
        "colab_type": "text"
      },
      "source": [
        "> refaire les memes étapes pour payment_fraud.csv"
      ]
    },
    {
      "cell_type": "code",
      "metadata": {
        "id": "5gRK0aJLp2a8",
        "colab_type": "code",
        "colab": {}
      },
      "source": [
        ""
      ],
      "execution_count": 0,
      "outputs": []
    }
  ]
}