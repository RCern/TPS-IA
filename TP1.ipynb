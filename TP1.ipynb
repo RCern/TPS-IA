{
  "nbformat": 4,
  "nbformat_minor": 0,
  "metadata": {
    "kernelspec": {
      "display_name": "Python 3",
      "language": "python",
      "name": "python3"
    },
    "language_info": {
      "codemirror_mode": {
        "name": "ipython",
        "version": 3
      },
      "file_extension": ".py",
      "mimetype": "text/x-python",
      "name": "python",
      "nbconvert_exporter": "python",
      "pygments_lexer": "ipython3",
      "version": "3.7.3"
    },
    "colab": {
      "name": "TP1.ipynb",
      "provenance": [],
      "collapsed_sections": [
        "nkA57iw0p2Yx",
        "WE5vahT0p2Zg",
        "i3La0B_Ip2Zw"
      ],
      "include_colab_link": true
    }
  },
  "cells": [
    {
      "cell_type": "markdown",
      "metadata": {
        "id": "view-in-github",
        "colab_type": "text"
      },
      "source": [
        "<a href=\"https://colab.research.google.com/github/securitylab-repository/TPS-IA/blob/master/TP1.ipynb\" target=\"_parent\"><img src=\"https://colab.research.google.com/assets/colab-badge.svg\" alt=\"Open In Colab\"/></a>"
      ]
    },
    {
      "cell_type": "markdown",
      "metadata": {
        "id": "9SQqqqNOp2Yt",
        "colab_type": "text"
      },
      "source": [
        "# TP 1 : Introduction\n",
        "***Objectif: Apprendre à utiliser les librairies du machine learning***"
      ]
    },
    {
      "cell_type": "markdown",
      "metadata": {
        "id": "nkA57iw0p2Yx",
        "colab_type": "text"
      },
      "source": [
        "## NumPy array\n",
        "Toutes les données acceptées par Scikit-Learn sont converties en **NumPy array**. Sa structure de base est la classe **ndarray** qui est un vecteur (liste) à n-dimensions. Tous les éléments de la liste doivent être de même type."
      ]
    },
    {
      "cell_type": "code",
      "metadata": {
        "id": "bMO5HFRup2Yz",
        "colab_type": "code",
        "outputId": "0670e513-b930-4fc2-9f8a-2348e0061045",
        "colab": {
          "base_uri": "https://localhost:8080/",
          "height": 156
        }
      },
      "source": [
        "import numpy as np\n",
        "\n",
        "x = np.array([[1, 2, 3], [4, 5, 6],[7, 8, 9],[10,11,12],[13,14,15],[16,17,18],[19,20,21]])\n",
        "print(\"x:\\n{}\".format(x))"
      ],
      "execution_count": 1,
      "outputs": [
        {
          "output_type": "stream",
          "text": [
            "x:\n",
            "[[ 1  2  3]\n",
            " [ 4  5  6]\n",
            " [ 7  8  9]\n",
            " [10 11 12]\n",
            " [13 14 15]\n",
            " [16 17 18]\n",
            " [19 20 21]]\n"
          ],
          "name": "stdout"
        }
      ]
    },
    {
      "cell_type": "code",
      "metadata": {
        "id": "69C0l554p2Y7",
        "colab_type": "code",
        "outputId": "da94fe6b-b1c4-4ef5-dce8-0125dc1c43ad",
        "colab": {
          "base_uri": "https://localhost:8080/",
          "height": 35
        }
      },
      "source": [
        "print(type(x))"
      ],
      "execution_count": 2,
      "outputs": [
        {
          "output_type": "stream",
          "text": [
            "<class 'numpy.ndarray'>\n"
          ],
          "name": "stdout"
        }
      ]
    },
    {
      "cell_type": "code",
      "metadata": {
        "id": "9wpu_7_fp2Y_",
        "colab_type": "code",
        "outputId": "bdb952d6-0722-42f3-9e53-ab9946e82eed",
        "colab": {
          "base_uri": "https://localhost:8080/",
          "height": 35
        }
      },
      "source": [
        "print(x.shape)\n"
      ],
      "execution_count": 3,
      "outputs": [
        {
          "output_type": "stream",
          "text": [
            "(7, 3)\n"
          ],
          "name": "stdout"
        }
      ]
    },
    {
      "cell_type": "markdown",
      "metadata": {
        "id": "6PYZWjD-vhEp",
        "colab_type": "text"
      },
      "source": [
        "> Que représente la propriété ***shape*** ?\n",
        "\n",
        "\n",
        "\n"
      ]
    },
    {
      "cell_type": "markdown",
      "metadata": {
        "id": "UZk9v1rb-m6a",
        "colab_type": "text"
      },
      "source": [
        "> Utiliser `numpy` pour créer un vecteur de dimension (1,4) puis (4,1)\n",
        "\n",
        "> Utiliser `numpy` pour créer un vecteur (matrice) de dimension (3,2). Ne pas utiliser la fonction `np.mat()`"
      ]
    },
    {
      "cell_type": "markdown",
      "metadata": {
        "id": "728g-rGZ16P3",
        "colab_type": "text"
      },
      "source": [
        "> En utilisant les fonctions `np.arrange` ou `np.linespace`, générez une liste de $6$ *floats* compris entre $0$ et $\\frac{5}{3}$"
      ]
    },
    {
      "cell_type": "code",
      "metadata": {
        "id": "LMenskJ81-cA",
        "colab_type": "code",
        "colab": {}
      },
      "source": [
        ""
      ],
      "execution_count": 0,
      "outputs": []
    },
    {
      "cell_type": "code",
      "metadata": {
        "id": "nM2DBk_C2A3x",
        "colab_type": "code",
        "outputId": "7d857218-6c72-4e7c-e2ec-9e24eaa45e98",
        "colab": {
          "base_uri": "https://localhost:8080/",
          "height": 69
        }
      },
      "source": [
        "np.random.rand(3,4)\n"
      ],
      "execution_count": 4,
      "outputs": [
        {
          "output_type": "execute_result",
          "data": {
            "text/plain": [
              "array([[0.76095615, 0.18993716, 0.96404453, 0.61208735],\n",
              "       [0.18095307, 0.88354111, 0.66331787, 0.8729421 ],\n",
              "       [0.42203414, 0.95947212, 0.10153997, 0.64594231]])"
            ]
          },
          "metadata": {
            "tags": []
          },
          "execution_count": 4
        }
      ]
    },
    {
      "cell_type": "code",
      "metadata": {
        "id": "mf6ALwfJ2aUp",
        "colab_type": "code",
        "outputId": "fa619578-9827-4071-dfdb-ace9b85b5b85",
        "colab": {
          "base_uri": "https://localhost:8080/",
          "height": 69
        }
      },
      "source": [
        "np.random.randn(3,4)"
      ],
      "execution_count": 5,
      "outputs": [
        {
          "output_type": "execute_result",
          "data": {
            "text/plain": [
              "array([[-0.84222259, -0.79620343,  0.51161916, -2.26401449],\n",
              "       [-1.48468202,  0.85602539, -0.31315741,  0.22803175],\n",
              "       [ 1.30219767, -0.98360813,  0.96716276,  0.04192907]])"
            ]
          },
          "metadata": {
            "tags": []
          },
          "execution_count": 5
        }
      ]
    },
    {
      "cell_type": "markdown",
      "metadata": {
        "id": "67Z4WXFB22zy",
        "colab_type": "text"
      },
      "source": [
        "> Que réalise les deux fonctions `rand` et `randn` ?"
      ]
    },
    {
      "cell_type": "code",
      "metadata": {
        "id": "E12nq3333it4",
        "colab_type": "code",
        "outputId": "3e583f9c-cead-4a7d-ecae-d3c3c1b71cb6",
        "colab": {
          "base_uri": "https://localhost:8080/",
          "height": 295
        }
      },
      "source": [
        "%matplotlib inline\n",
        "import matplotlib.pyplot as plt\n",
        "plt.hist(np.random.rand(100000), density=True, bins=100, histtype=\"step\", color=\"blue\", label=\"rand\")\n",
        "plt.hist(np.random.randn(100000), density=True, bins=100, histtype=\"step\", color=\"red\", label=\"randn\")\n",
        "plt.axis([-2.5, 2.5, 0, 1.1])\n",
        "plt.legend(loc = \"upper left\")\n",
        "plt.title(\"Random distributions\")\n",
        "plt.xlabel(\"Value\")\n",
        "plt.ylabel(\"Density\")\n",
        "plt.show()"
      ],
      "execution_count": 6,
      "outputs": [
        {
          "output_type": "display_data",
          "data": {
            "image/png": "[encoded data removed]",
            "text/plain": [
              "<Figure size 432x288 with 1 Axes>"
            ]
          },
          "metadata": {
            "tags": []
          }
        }
      ]
    },
    {
      "cell_type": "markdown",
      "metadata": {
        "id": "Pp4Y-E133_zv",
        "colab_type": "text"
      },
      "source": [
        "> Quelle est la principale différence entre `rand` et `randn`?"
      ]
    },
    {
      "cell_type": "code",
      "metadata": {
        "id": "Sy7GznkDW9QZ",
        "colab_type": "code",
        "colab": {}
      },
      "source": [
        "vector = np.array([1, 2, 3, 4, 5, 6])\n",
        "\n",
        "# Create matrix\n",
        "matrix = np.array([[1, 2, 3],\n",
        "                   [4, 5, 6],\n",
        "                   [7, 8, 9]])\n"
      ],
      "execution_count": 0,
      "outputs": []
    },
    {
      "cell_type": "markdown",
      "metadata": {
        "id": "sb0JEamQXAtE",
        "colab_type": "text"
      },
      "source": [
        "> Sélectionner puis afficher tous les éléments du vecteur `vector`\n",
        "\n",
        "> Sélectionner puis afficher les éléments jusqu'au 3ème élément inclut du vecteur `vector`\n",
        "\n",
        ">  Sélectionner puis afficher les éléments à partir du 3ème élément inclut du vecteur `vector`\n",
        "\n",
        "> Sélectionner puis afficher l'avant dernier élément du vecteur `vector`\n",
        "\n",
        ">  Sélectionner les deux premières lignes et toutes les colonnes de la matrice \n",
        "> Sélectionner toutes les lignes et la seconde colonne\n",
        "\n",
        "> Calculer le max, min de chaque colonne de la matrice\n",
        "\n",
        "> Calculer la moyenne, la trace, le déterminant et le rang de la matrice\n",
        "\n",
        "> Calculer la transposer de la matrice\n",
        "\n",
        "> Transformer la matrice en une liste\n",
        "\n",
        "> Extraire la diagonal de la matrice\n"
      ]
    },
    {
      "cell_type": "markdown",
      "metadata": {
        "id": "XBOFB2tXp5Xf",
        "colab_type": "text"
      },
      "source": [
        "> Expliquez le code suivant :"
      ]
    },
    {
      "cell_type": "code",
      "metadata": {
        "id": "QAsoiWfAqBku",
        "colab_type": "code",
        "outputId": "326b7b6c-fdb4-42c9-97dd-45fad970fa11",
        "colab": {
          "base_uri": "https://localhost:8080/",
          "height": 69
        }
      },
      "source": [
        "import numpy as np\n",
        "addition100 = lambda i : i + 100\n",
        "\n",
        "matrix = np.array([[1,2],\n",
        "                   [3,4],\n",
        "                  [5,6]])\n",
        "\n",
        "matrix_addtion = np.vectorize(addition100)\n",
        "matrix100 = matrix_addtion(matrix)\n",
        "print(matrix100)"
      ],
      "execution_count": 8,
      "outputs": [
        {
          "output_type": "stream",
          "text": [
            "[[101 102]\n",
            " [103 104]\n",
            " [105 106]]\n"
          ],
          "name": "stdout"
        }
      ]
    },
    {
      "cell_type": "markdown",
      "metadata": {
        "id": "WE5vahT0p2Zg",
        "colab_type": "text"
      },
      "source": [
        "## SciPy\n"
      ]
    },
    {
      "cell_type": "markdown",
      "metadata": {
        "id": "0to6uzRaVami",
        "colab_type": "text"
      },
      "source": [
        "> Génération d'une matrice composée que de 1 dans la diagonale et des 0 parout ailleurs "
      ]
    },
    {
      "cell_type": "code",
      "metadata": {
        "id": "2LAFLOSop2Zh",
        "colab_type": "code",
        "outputId": "a015ad4a-5c06-4d59-e173-597cebeec5d2",
        "colab": {
          "base_uri": "https://localhost:8080/",
          "height": 0
        }
      },
      "source": [
        "from scipy import sparse\n",
        "\n",
        "eye = np.eye(4,4,dtype=float,k=0)\n",
        "print(\"NumPy array:\\n\", eye)"
      ],
      "execution_count": 9,
      "outputs": [
        {
          "output_type": "stream",
          "text": [
            "NumPy array:\n",
            " [[1. 0. 0. 0.]\n",
            " [0. 1. 0. 0.]\n",
            " [0. 0. 1. 0.]\n",
            " [0. 0. 0. 1.]]\n"
          ],
          "name": "stdout"
        }
      ]
    },
    {
      "cell_type": "markdown",
      "metadata": {
        "id": "59q2K1jPp2Zl",
        "colab_type": "text"
      },
      "source": [
        "> Que réalise le code suivant:"
      ]
    },
    {
      "cell_type": "code",
      "metadata": {
        "id": "I6qThzRbp2Zm",
        "colab_type": "code",
        "outputId": "79d1c1a0-6749-4fee-a5d1-b59276cdae92",
        "colab": {
          "base_uri": "https://localhost:8080/",
          "height": 0
        }
      },
      "source": [
        "sparse_matrix = sparse.csr_matrix(eye)\n",
        "print(\"\\nSciPy sparse CSR matrix:\\n\", sparse_matrix)"
      ],
      "execution_count": 10,
      "outputs": [
        {
          "output_type": "stream",
          "text": [
            "\n",
            "SciPy sparse CSR matrix:\n",
            "   (0, 0)\t1.0\n",
            "  (1, 1)\t1.0\n",
            "  (2, 2)\t1.0\n",
            "  (3, 3)\t1.0\n"
          ],
          "name": "stdout"
        }
      ]
    },
    {
      "cell_type": "markdown",
      "metadata": {
        "id": "9eSlLctvp2Zq",
        "colab_type": "text"
      },
      "source": [
        "> Modifiez k en 1 puis en -1, ensuite regénérez la matrice CSR."
      ]
    },
    {
      "cell_type": "code",
      "metadata": {
        "id": "le5l6RmHp2Zr",
        "colab_type": "code",
        "outputId": "dad5acfc-fc03-4d5f-957d-c9815b01a6a9",
        "colab": {
          "base_uri": "https://localhost:8080/",
          "height": 0
        }
      },
      "source": [
        "data = np.ones(4)\n",
        "row_indices = np.arange(4)\n",
        "col_indices = np.arange(4)\n",
        "eye_coo = sparse.coo_matrix((data, (row_indices, col_indices)))\n",
        "print(\"COO representation:\\n\", eye_coo)"
      ],
      "execution_count": 11,
      "outputs": [
        {
          "output_type": "stream",
          "text": [
            "COO representation:\n",
            "   (0, 0)\t1.0\n",
            "  (1, 1)\t1.0\n",
            "  (2, 2)\t1.0\n",
            "  (3, 3)\t1.0\n"
          ],
          "name": "stdout"
        }
      ]
    },
    {
      "cell_type": "markdown",
      "metadata": {
        "id": "v5RJ-F_mp2Zv",
        "colab_type": "text"
      },
      "source": [
        "Quelle est la différence avec la première méthode ?"
      ]
    },
    {
      "cell_type": "markdown",
      "metadata": {
        "id": "i3La0B_Ip2Zw",
        "colab_type": "text"
      },
      "source": [
        "## matplotlib"
      ]
    },
    {
      "cell_type": "markdown",
      "metadata": {
        "id": "NG76AXuA_dLe",
        "colab_type": "text"
      },
      "source": [
        "> C'est une librairie python pour la génération de graphiques"
      ]
    },
    {
      "cell_type": "code",
      "metadata": {
        "id": "viE1lEfpp2Zx",
        "colab_type": "code",
        "outputId": "bba3735c-cf0f-4175-b2a1-967e295b5c15",
        "colab": {
          "base_uri": "https://localhost:8080/",
          "height": 283
        }
      },
      "source": [
        "%matplotlib inline\n",
        "#%matplotlib notebook\n",
        "import matplotlib.pyplot as plt\n",
        "\n",
        "x = np.linspace(-10, 10, 100)\n",
        "# Créer les valeurs de y en utilisant la fonction sign utilisé dans l'algorithme percertron\n",
        "y = np.sign(x)\n",
        "# Visualisation des données\n",
        "plt.plot(x, y, marker=\"+\")\n",
        "plt.show()\n",
        "plt.savefig(\"ma_sigmoid_fonction.png\", transparent=True)"
      ],
      "execution_count": 12,
      "outputs": [
        {
          "output_type": "display_data",
          "data": {
            "image/png": "[encoded data removed]",
            "text/plain": [
              "<Figure size 432x288 with 1 Axes>"
            ]
          },
          "metadata": {
            "tags": []
          }
        },
        {
          "output_type": "display_data",
          "data": {
            "text/plain": [
              "<Figure size 432x288 with 0 Axes>"
            ]
          },
          "metadata": {
            "tags": []
          }
        }
      ]
    },
    {
      "cell_type": "markdown",
      "metadata": {
        "id": "wGVMAQF8p2Z1",
        "colab_type": "text"
      },
      "source": [
        "> Ajouter une étiquette à chaque axe x et y\n",
        "\n",
        "> Ajouter un titre au graphique\n",
        "\n",
        "> Afficher les fonction suivantes : cos, sign, exp\n"
      ]
    },
    {
      "cell_type": "code",
      "metadata": {
        "id": "IfDd1bX1EtpZ",
        "colab_type": "code",
        "outputId": "c900700a-c933-449a-82f6-24c934e4bf15",
        "colab": {
          "base_uri": "https://localhost:8080/",
          "height": 267
        }
      },
      "source": [
        "x = np.linspace(-1.4, 1.4, 30)\n",
        "plt.subplot(2, 2, 1)  \n",
        "plt.plot(x, x)\n",
        "plt.subplot(2, 2, 2) \n",
        "plt.plot(x, x**2)\n",
        "plt.subplot(2, 2, 3) \n",
        "plt.plot(x, x**3)\n",
        "plt.subplot(2, 2, 4)  \n",
        "plt.plot(x, x**4)\n",
        "plt.show()"
      ],
      "execution_count": 13,
      "outputs": [
        {
          "output_type": "display_data",
          "data": {
            "image/png": "[encoded data removed]",
            "text/plain": [
              "<Figure size 432x288 with 4 Axes>"
            ]
          },
          "metadata": {
            "tags": []
          }
        }
      ]
    },
    {
      "cell_type": "code",
      "metadata": {
        "id": "wms5Z3JP4M5E",
        "colab_type": "code",
        "outputId": "92d9f50e-9455-4876-8306-d0d1403bb063",
        "colab": {
          "base_uri": "https://localhost:8080/",
          "height": 353
        }
      },
      "source": [
        "x = np.linspace(-1.4, 1.4, 30)\n",
        "y = np.linspace(1, 10, 30)\n",
        "fig, ax = plt.subplots(nrows=2, ncols=2, figsize=(5,5))\n",
        "\n",
        "ax[0][0].set_xlim(-2,2)\n",
        "ax[0][0].set_xlabel(r'$x$')\n",
        "ax[0][0].set_ylabel(r'$y$')\n",
        "ax[0][0].set_title('Titre')\n",
        "\n",
        "\n",
        "ax[0][0].grid(True)\n",
        "ax[1][0].grid(True)\n",
        "\n",
        "\n",
        "ax[0][0].scatter(x, y, marker='+', s=4, color='g')\n",
        "\n",
        "ax[1][1].plot(y, x,'r--', lw=2, label=r'$toto$')\n"
      ],
      "execution_count": 14,
      "outputs": [
        {
          "output_type": "execute_result",
          "data": {
            "text/plain": [
              "[<matplotlib.lines.Line2D at 0x7f3c4e59de48>]"
            ]
          },
          "metadata": {
            "tags": []
          },
          "execution_count": 14
        },
        {
          "output_type": "display_data",
          "data": {
            "image/png": "[encoded data removed]",
            "text/plain": [
              "<Figure size 360x360 with 4 Axes>"
            ]
          },
          "metadata": {
            "tags": []
          }
        }
      ]
    },
    {
      "cell_type": "markdown",
      "metadata": {
        "id": "acihnW196GZw",
        "colab_type": "text"
      },
      "source": [
        "> Expliquez le fonctionnement de `subplot`"
      ]
    },
    {
      "cell_type": "code",
      "metadata": {
        "id": "_PSo0BLb6564",
        "colab_type": "code",
        "outputId": "d5c08696-41c4-4645-8266-bba76553d3c8",
        "colab": {
          "base_uri": "https://localhost:8080/",
          "height": 300
        }
      },
      "source": [
        "x = np.linspace(-1.5, 1.5, 30)\n",
        "px = 0.8\n",
        "py = px**2\n",
        "\n",
        "plt.plot(x, x**2, \"b-\", px, py, \"ro\")\n",
        "\n",
        "#plt.text(0, 1.5, \"Square function\\n$y = x^2$\", fontsize=20, color='blue', horizontalalignment=\"center\")\n",
        "#plt.text(px - 0.08, py, \"Beautiful point\", ha=\"right\", weight=\"heavy\")\n",
        "#plt.text(px, py, \"x = %0.2f\\ny = %0.2f\"%(px, py), rotation=50, color='gray')\n",
        "\n",
        "#plt.show()"
      ],
      "execution_count": 15,
      "outputs": [
        {
          "output_type": "execute_result",
          "data": {
            "text/plain": [
              "[<matplotlib.lines.Line2D at 0x7f3c4e7c3898>,\n",
              " <matplotlib.lines.Line2D at 0x7f3c4e7c3828>]"
            ]
          },
          "metadata": {
            "tags": []
          },
          "execution_count": 15
        },
        {
          "output_type": "display_data",
          "data": {
            "image/png": "[encoded data removed]",
            "text/plain": [
              "<Figure size 432x288 with 1 Axes>"
            ]
          },
          "metadata": {
            "tags": []
          }
        }
      ]
    },
    {
      "cell_type": "code",
      "metadata": {
        "id": "w-T1WuP2A0Ad",
        "colab_type": "code",
        "outputId": "8e054a9b-d6cf-4512-9640-5536283d8801",
        "colab": {
          "base_uri": "https://localhost:8080/",
          "height": 265
        }
      },
      "source": [
        "plt.plot(x, x**2, px, py, \"ro\")\n",
        "plt.annotate(\"Beautiful point\", xy=(px, py), xytext=(px-1.5,py+0.5),\n",
        "                           color=\"green\", weight=\"heavy\", fontsize=14,\n",
        "                           arrowprops={\"facecolor\": \"lightgreen\"})\n",
        "plt.show()"
      ],
      "execution_count": 16,
      "outputs": [
        {
          "output_type": "display_data",
          "data": {
            "image/png": "[encoded data removed]",
            "text/plain": [
              "<Figure size 432x288 with 1 Axes>"
            ]
          },
          "metadata": {
            "tags": []
          }
        }
      ]
    },
    {
      "cell_type": "markdown",
      "metadata": {
        "id": "ZuZTaG0Op2Z2",
        "colab_type": "text"
      },
      "source": [
        "## Pandas\n",
        "\n",
        "Objectifs d'apprentissage :\n",
        "\n",
        "- Introduction aux structures de données `DataFrame` et `Series` de la bibliothèque Pandas \n",
        "- Accéder aux données et les manipuler dans une structure `DataFrame` et `Series`\n",
        "- Importer des données d'un fichier CSV dans un `DataFrame` Pandas\n",
        "- Réindexer un `DataFrame` pour mélanger les données\n",
        "\n",
        "Pandas est une API d'analyse de données orientée colonnes. C'est un excellent outil pour manipuler et analyser des données d'entrée.\n",
        "\n",
        "Beaucoup de frameworks d'apprentissage automatique acceptent les structures de données Pandas en entrée. \n",
        "\n"
      ]
    },
    {
      "cell_type": "markdown",
      "metadata": {
        "id": "ZjNzQt5_mlKY",
        "colab_type": "text"
      },
      "source": [
        "On distingue deux grandes catégories de structures de données Pandas :\n",
        "\n",
        "1. Le `DataFrame`, un tableau relationnel de données, avec des lignes et des colonnes étiquetées\n",
        "1. La `Series`, constituée d'une seule colonne. \n",
        "\n",
        "Un DataFrame contient une ou plusieurs Series, chacune étant étiquetée."
      ]
    },
    {
      "cell_type": "markdown",
      "metadata": {
        "id": "WTTuyMBvn-nn",
        "colab_type": "text"
      },
      "source": [
        "Pour créer une Series, vous pouvez notamment créer un objet Series. Par exemple :"
      ]
    },
    {
      "cell_type": "code",
      "metadata": {
        "id": "3yhQ0C2noBFh",
        "colab_type": "code",
        "outputId": "c0ee123a-36c1-4e67-ee88-45c12c0f1934",
        "colab": {
          "base_uri": "https://localhost:8080/",
          "height": 87
        }
      },
      "source": [
        "import pandas as pd\n",
        "from IPython.display import display\n",
        "\n",
        "pd.Series(['San Francisco', 'San Jose', 'Sacramento'])"
      ],
      "execution_count": 17,
      "outputs": [
        {
          "output_type": "execute_result",
          "data": {
            "text/plain": [
              "0    San Francisco\n",
              "1         San Jose\n",
              "2       Sacramento\n",
              "dtype: object"
            ]
          },
          "metadata": {
            "tags": []
          },
          "execution_count": 17
        }
      ]
    },
    {
      "cell_type": "markdown",
      "metadata": {
        "id": "C32qlRkJojDR",
        "colab_type": "text"
      },
      "source": [
        "Pour créer un `DataFrame`, nous pouvons procéder de deux manières différentes:\n",
        "1. Il est possible de créer des objets `DataFrame` en transmettant un dictionnaire qui met en correspondance les noms de colonnes (des chaînes de caractères) avec leur `Series` respective. Lorsque la longueur de la Series ne correspond pas, les valeurs manquantes sont remplacées par des valeurs `NA/NaN` spéciales. Exemple :"
      ]
    },
    {
      "cell_type": "code",
      "metadata": {
        "id": "UefwgR8co6u0",
        "colab_type": "code",
        "outputId": "bc99ff41-497a-4651-b0bf-038741579d74",
        "colab": {
          "base_uri": "https://localhost:8080/",
          "height": 258
        }
      },
      "source": [
        "names = pd.Series([\"John\", \"Anna\", \"Peter\", \"Linda\"])\n",
        "locations = pd.Series([\"New York\", \"Paris\", \"Berlin\", \"London\"])\n",
        "ages = pd.Series([24, 13, 53, 33])\n",
        "data_pandas = pd.DataFrame({ 'Name': names, 'Location': locations, 'Age' : ages })\n",
        "print(data_pandas.head())\n",
        "display(data_pandas)"
      ],
      "execution_count": 18,
      "outputs": [
        {
          "output_type": "stream",
          "text": [
            "    Name  Location  Age\n",
            "0   John  New York   24\n",
            "1   Anna     Paris   13\n",
            "2  Peter    Berlin   53\n",
            "3  Linda    London   33\n"
          ],
          "name": "stdout"
        },
        {
          "output_type": "display_data",
          "data": {
            "text/html": [
              "<div>\n",
              "<style scoped>\n",
              "    .dataframe tbody tr th:only-of-type {\n",
              "        vertical-align: middle;\n",
              "    }\n",
              "\n",
              "    .dataframe tbody tr th {\n",
              "        vertical-align: top;\n",
              "    }\n",
              "\n",
              "    .dataframe thead th {\n",
              "        text-align: right;\n",
              "    }\n",
              "</style>\n",
              "<table border=\"1\" class=\"dataframe\">\n",
              "  <thead>\n",
              "    <tr style=\"text-align: right;\">\n",
              "      <th></th>\n",
              "      <th>Name</th>\n",
              "      <th>Location</th>\n",
              "      <th>Age</th>\n",
              "    </tr>\n",
              "  </thead>\n",
              "  <tbody>\n",
              "    <tr>\n",
              "      <th>0</th>\n",
              "      <td>John</td>\n",
              "      <td>New York</td>\n",
              "      <td>24</td>\n",
              "    </tr>\n",
              "    <tr>\n",
              "      <th>1</th>\n",
              "      <td>Anna</td>\n",
              "      <td>Paris</td>\n",
              "      <td>13</td>\n",
              "    </tr>\n",
              "    <tr>\n",
              "      <th>2</th>\n",
              "      <td>Peter</td>\n",
              "      <td>Berlin</td>\n",
              "      <td>53</td>\n",
              "    </tr>\n",
              "    <tr>\n",
              "      <th>3</th>\n",
              "      <td>Linda</td>\n",
              "      <td>London</td>\n",
              "      <td>33</td>\n",
              "    </tr>\n",
              "  </tbody>\n",
              "</table>\n",
              "</div>"
            ],
            "text/plain": [
              "    Name  Location  Age\n",
              "0   John  New York   24\n",
              "1   Anna     Paris   13\n",
              "2  Peter    Berlin   53\n",
              "3  Linda    London   33"
            ]
          },
          "metadata": {
            "tags": []
          }
        }
      ]
    },
    {
      "cell_type": "markdown",
      "metadata": {
        "id": "-6kGIpRxpoQk",
        "colab_type": "text"
      },
      "source": [
        "2. Sans passer par les `Series` en utilisant de simples listes"
      ]
    },
    {
      "cell_type": "code",
      "metadata": {
        "id": "qoK0Km59p2Z2",
        "colab_type": "code",
        "outputId": "1cf6ee06-23e4-49e6-af3f-95a39b966e7e",
        "colab": {
          "base_uri": "https://localhost:8080/",
          "height": 171
        }
      },
      "source": [
        "\n",
        "\n",
        "# create a simple dataset of people\n",
        "data = {'Name': [\"John\", \"Anna\", \"Peter\", \"Linda\"],\n",
        "        'Location' : [\"New York\", \"Paris\", \"Berlin\", \"San fransisco\"],\n",
        "        'Age' : [24, 13, 53, 33]\n",
        "       }\n",
        "\n",
        "data_pandas = pd.DataFrame(data)\n",
        "\n",
        "display(data_pandas)"
      ],
      "execution_count": 19,
      "outputs": [
        {
          "output_type": "display_data",
          "data": {
            "text/html": [
              "<div>\n",
              "<style scoped>\n",
              "    .dataframe tbody tr th:only-of-type {\n",
              "        vertical-align: middle;\n",
              "    }\n",
              "\n",
              "    .dataframe tbody tr th {\n",
              "        vertical-align: top;\n",
              "    }\n",
              "\n",
              "    .dataframe thead th {\n",
              "        text-align: right;\n",
              "    }\n",
              "</style>\n",
              "<table border=\"1\" class=\"dataframe\">\n",
              "  <thead>\n",
              "    <tr style=\"text-align: right;\">\n",
              "      <th></th>\n",
              "      <th>Name</th>\n",
              "      <th>Location</th>\n",
              "      <th>Age</th>\n",
              "    </tr>\n",
              "  </thead>\n",
              "  <tbody>\n",
              "    <tr>\n",
              "      <th>0</th>\n",
              "      <td>John</td>\n",
              "      <td>New York</td>\n",
              "      <td>24</td>\n",
              "    </tr>\n",
              "    <tr>\n",
              "      <th>1</th>\n",
              "      <td>Anna</td>\n",
              "      <td>Paris</td>\n",
              "      <td>13</td>\n",
              "    </tr>\n",
              "    <tr>\n",
              "      <th>2</th>\n",
              "      <td>Peter</td>\n",
              "      <td>Berlin</td>\n",
              "      <td>53</td>\n",
              "    </tr>\n",
              "    <tr>\n",
              "      <th>3</th>\n",
              "      <td>Linda</td>\n",
              "      <td>San fransisco</td>\n",
              "      <td>33</td>\n",
              "    </tr>\n",
              "  </tbody>\n",
              "</table>\n",
              "</div>"
            ],
            "text/plain": [
              "    Name       Location  Age\n",
              "0   John       New York   24\n",
              "1   Anna          Paris   13\n",
              "2  Peter         Berlin   53\n",
              "3  Linda  San fransisco   33"
            ]
          },
          "metadata": {
            "tags": []
          }
        }
      ]
    },
    {
      "cell_type": "markdown",
      "metadata": {
        "id": "tOYh98aiul-j",
        "colab_type": "text"
      },
      "source": [
        "3. A partir d'un fichier CSV:"
      ]
    },
    {
      "cell_type": "code",
      "metadata": {
        "id": "ZpZ8ByGGuq_u",
        "colab_type": "code",
        "outputId": "32a440ef-e355-4a4b-cf29-f36997b08a03",
        "colab": {
          "base_uri": "https://localhost:8080/",
          "height": 202
        }
      },
      "source": [
        "#ramprice = pd.read_csv('ram_price.csv',delimiter=',') # ram_price.csv est dans le dossier courrant\n",
        "ramprice = pd.read_csv('https://raw.githubusercontent.com/securitylab-repository/TPS-IA/master/datasets/ram_price.csv',delimiter=',')\n",
        "display(ramprice.head())\n",
        "\n",
        "#ramprice = pd.read_csv('ram_price.csv',delimiter=',', names = price)\n",
        "#display(ramprice.head())"
      ],
      "execution_count": 20,
      "outputs": [
        {
          "output_type": "display_data",
          "data": {
            "text/html": [
              "<div>\n",
              "<style scoped>\n",
              "    .dataframe tbody tr th:only-of-type {\n",
              "        vertical-align: middle;\n",
              "    }\n",
              "\n",
              "    .dataframe tbody tr th {\n",
              "        vertical-align: top;\n",
              "    }\n",
              "\n",
              "    .dataframe thead th {\n",
              "        text-align: right;\n",
              "    }\n",
              "</style>\n",
              "<table border=\"1\" class=\"dataframe\">\n",
              "  <thead>\n",
              "    <tr style=\"text-align: right;\">\n",
              "      <th></th>\n",
              "      <th>Unnamed: 0</th>\n",
              "      <th>date</th>\n",
              "      <th>price</th>\n",
              "    </tr>\n",
              "  </thead>\n",
              "  <tbody>\n",
              "    <tr>\n",
              "      <th>0</th>\n",
              "      <td>0</td>\n",
              "      <td>1957.0</td>\n",
              "      <td>411041792.0</td>\n",
              "    </tr>\n",
              "    <tr>\n",
              "      <th>1</th>\n",
              "      <td>1</td>\n",
              "      <td>1959.0</td>\n",
              "      <td>67947725.0</td>\n",
              "    </tr>\n",
              "    <tr>\n",
              "      <th>2</th>\n",
              "      <td>2</td>\n",
              "      <td>1960.0</td>\n",
              "      <td>5242880.0</td>\n",
              "    </tr>\n",
              "    <tr>\n",
              "      <th>3</th>\n",
              "      <td>3</td>\n",
              "      <td>1965.0</td>\n",
              "      <td>2642412.0</td>\n",
              "    </tr>\n",
              "    <tr>\n",
              "      <th>4</th>\n",
              "      <td>4</td>\n",
              "      <td>1970.0</td>\n",
              "      <td>734003.0</td>\n",
              "    </tr>\n",
              "  </tbody>\n",
              "</table>\n",
              "</div>"
            ],
            "text/plain": [
              "   Unnamed: 0    date        price\n",
              "0           0  1957.0  411041792.0\n",
              "1           1  1959.0   67947725.0\n",
              "2           2  1960.0    5242880.0\n",
              "3           3  1965.0    2642412.0\n",
              "4           4  1970.0     734003.0"
            ]
          },
          "metadata": {
            "tags": []
          }
        }
      ]
    },
    {
      "cell_type": "markdown",
      "metadata": {
        "id": "ASogTnd-xP4u",
        "colab_type": "text"
      },
      "source": [
        "La méthode `DataFrame.describe` permet d'afficher des statistiques intéressantes concernant un `DataFrame`"
      ]
    },
    {
      "cell_type": "code",
      "metadata": {
        "id": "IkpmIH7KxUpM",
        "colab_type": "code",
        "colab": {
          "base_uri": "https://localhost:8080/",
          "height": 294
        },
        "outputId": "f3859418-9319-4225-f99a-99bbd0ba268d"
      },
      "source": [
        "ramprice.describe()"
      ],
      "execution_count": 21,
      "outputs": [
        {
          "output_type": "execute_result",
          "data": {
            "text/html": [
              "<div>\n",
              "<style scoped>\n",
              "    .dataframe tbody tr th:only-of-type {\n",
              "        vertical-align: middle;\n",
              "    }\n",
              "\n",
              "    .dataframe tbody tr th {\n",
              "        vertical-align: top;\n",
              "    }\n",
              "\n",
              "    .dataframe thead th {\n",
              "        text-align: right;\n",
              "    }\n",
              "</style>\n",
              "<table border=\"1\" class=\"dataframe\">\n",
              "  <thead>\n",
              "    <tr style=\"text-align: right;\">\n",
              "      <th></th>\n",
              "      <th>Unnamed: 0</th>\n",
              "      <th>date</th>\n",
              "      <th>price</th>\n",
              "    </tr>\n",
              "  </thead>\n",
              "  <tbody>\n",
              "    <tr>\n",
              "      <th>count</th>\n",
              "      <td>333.000000</td>\n",
              "      <td>333.000000</td>\n",
              "      <td>3.330000e+02</td>\n",
              "    </tr>\n",
              "    <tr>\n",
              "      <th>mean</th>\n",
              "      <td>166.000000</td>\n",
              "      <td>1996.878168</td>\n",
              "      <td>1.469755e+06</td>\n",
              "    </tr>\n",
              "    <tr>\n",
              "      <th>std</th>\n",
              "      <td>96.273049</td>\n",
              "      <td>11.026537</td>\n",
              "      <td>2.281991e+07</td>\n",
              "    </tr>\n",
              "    <tr>\n",
              "      <th>min</th>\n",
              "      <td>0.000000</td>\n",
              "      <td>1957.000000</td>\n",
              "      <td>3.700000e-03</td>\n",
              "    </tr>\n",
              "    <tr>\n",
              "      <th>25%</th>\n",
              "      <td>83.000000</td>\n",
              "      <td>1989.670000</td>\n",
              "      <td>1.260000e-01</td>\n",
              "    </tr>\n",
              "    <tr>\n",
              "      <th>50%</th>\n",
              "      <td>166.000000</td>\n",
              "      <td>1996.750000</td>\n",
              "      <td>8.000000e+00</td>\n",
              "    </tr>\n",
              "    <tr>\n",
              "      <th>75%</th>\n",
              "      <td>249.000000</td>\n",
              "      <td>2005.250000</td>\n",
              "      <td>1.330000e+02</td>\n",
              "    </tr>\n",
              "    <tr>\n",
              "      <th>max</th>\n",
              "      <td>332.000000</td>\n",
              "      <td>2015.920000</td>\n",
              "      <td>4.110418e+08</td>\n",
              "    </tr>\n",
              "  </tbody>\n",
              "</table>\n",
              "</div>"
            ],
            "text/plain": [
              "       Unnamed: 0         date         price\n",
              "count  333.000000   333.000000  3.330000e+02\n",
              "mean   166.000000  1996.878168  1.469755e+06\n",
              "std     96.273049    11.026537  2.281991e+07\n",
              "min      0.000000  1957.000000  3.700000e-03\n",
              "25%     83.000000  1989.670000  1.260000e-01\n",
              "50%    166.000000  1996.750000  8.000000e+00\n",
              "75%    249.000000  2005.250000  1.330000e+02\n",
              "max    332.000000  2015.920000  4.110418e+08"
            ]
          },
          "metadata": {
            "tags": []
          },
          "execution_count": 21
        }
      ]
    },
    {
      "cell_type": "markdown",
      "metadata": {
        "id": "_thhNXXsxYC6",
        "colab_type": "text"
      },
      "source": [
        "Autre fonction puissante de Pandas : la représentation graphique. Avec DataFrame.hist, par exemple, vous pouvez vérifier rapidement la façon dont les valeurs d'une colonne sont distribuées :"
      ]
    },
    {
      "cell_type": "code",
      "metadata": {
        "id": "e5iGAIpqvtdD",
        "colab_type": "code",
        "outputId": "760ceff2-2ded-42e6-bbd2-5d7ec36c6ca8",
        "colab": {
          "base_uri": "https://localhost:8080/",
          "height": 329
        }
      },
      "source": [
        "ramprice.hist('price')"
      ],
      "execution_count": 22,
      "outputs": [
        {
          "output_type": "execute_result",
          "data": {
            "text/plain": [
              "array([[<matplotlib.axes._subplots.AxesSubplot object at 0x7f3c4e7b46a0>]],\n",
              "      dtype=object)"
            ]
          },
          "metadata": {
            "tags": []
          },
          "execution_count": 22
        },
        {
          "output_type": "display_data",
          "data": {
            "image/png": "[encoded data removed]",
            "text/plain": [
              "<Figure size 432x288 with 1 Axes>"
            ]
          },
          "metadata": {
            "tags": []
          }
        }
      ]
    },
    {
      "cell_type": "code",
      "metadata": {
        "colab_type": "code",
        "outputId": "97263196-93d0-4358-ba95-d99d686d4f70",
        "id": "CDQREeYOgAFI",
        "colab": {
          "base_uri": "https://localhost:8080/",
          "height": 202
        }
      },
      "source": [
        "display(ramprice.tail())"
      ],
      "execution_count": 0,
      "outputs": [
        {
          "output_type": "display_data",
          "data": {
            "text/html": [
              "<div>\n",
              "<style scoped>\n",
              "    .dataframe tbody tr th:only-of-type {\n",
              "        vertical-align: middle;\n",
              "    }\n",
              "\n",
              "    .dataframe tbody tr th {\n",
              "        vertical-align: top;\n",
              "    }\n",
              "\n",
              "    .dataframe thead th {\n",
              "        text-align: right;\n",
              "    }\n",
              "</style>\n",
              "<table border=\"1\" class=\"dataframe\">\n",
              "  <thead>\n",
              "    <tr style=\"text-align: right;\">\n",
              "      <th></th>\n",
              "      <th>Unnamed: 0</th>\n",
              "      <th>date</th>\n",
              "      <th>price</th>\n",
              "    </tr>\n",
              "  </thead>\n",
              "  <tbody>\n",
              "    <tr>\n",
              "      <th>328</th>\n",
              "      <td>328</td>\n",
              "      <td>2015.58</td>\n",
              "      <td>0.0045</td>\n",
              "    </tr>\n",
              "    <tr>\n",
              "      <th>329</th>\n",
              "      <td>329</td>\n",
              "      <td>2015.67</td>\n",
              "      <td>0.0043</td>\n",
              "    </tr>\n",
              "    <tr>\n",
              "      <th>330</th>\n",
              "      <td>330</td>\n",
              "      <td>2015.75</td>\n",
              "      <td>0.0042</td>\n",
              "    </tr>\n",
              "    <tr>\n",
              "      <th>331</th>\n",
              "      <td>331</td>\n",
              "      <td>2015.83</td>\n",
              "      <td>0.0038</td>\n",
              "    </tr>\n",
              "    <tr>\n",
              "      <th>332</th>\n",
              "      <td>332</td>\n",
              "      <td>2015.92</td>\n",
              "      <td>0.0037</td>\n",
              "    </tr>\n",
              "  </tbody>\n",
              "</table>\n",
              "</div>"
            ],
            "text/plain": [
              "     Unnamed: 0     date   price\n",
              "328         328  2015.58  0.0045\n",
              "329         329  2015.67  0.0043\n",
              "330         330  2015.75  0.0042\n",
              "331         331  2015.83  0.0038\n",
              "332         332  2015.92  0.0037"
            ]
          },
          "metadata": {
            "tags": []
          }
        }
      ]
    },
    {
      "cell_type": "code",
      "metadata": {
        "colab_type": "code",
        "outputId": "34261953-102b-4736-b968-3380512cb822",
        "id": "g0BczKYQgAFM",
        "colab": {
          "base_uri": "https://localhost:8080/",
          "height": 110
        }
      },
      "source": [
        "display(ramprice.sample(2))"
      ],
      "execution_count": 0,
      "outputs": [
        {
          "output_type": "display_data",
          "data": {
            "text/html": [
              "<div>\n",
              "<style scoped>\n",
              "    .dataframe tbody tr th:only-of-type {\n",
              "        vertical-align: middle;\n",
              "    }\n",
              "\n",
              "    .dataframe tbody tr th {\n",
              "        vertical-align: top;\n",
              "    }\n",
              "\n",
              "    .dataframe thead th {\n",
              "        text-align: right;\n",
              "    }\n",
              "</style>\n",
              "<table border=\"1\" class=\"dataframe\">\n",
              "  <thead>\n",
              "    <tr style=\"text-align: right;\">\n",
              "      <th></th>\n",
              "      <th>Unnamed: 0</th>\n",
              "      <th>date</th>\n",
              "      <th>price</th>\n",
              "    </tr>\n",
              "  </thead>\n",
              "  <tbody>\n",
              "    <tr>\n",
              "      <th>310</th>\n",
              "      <td>310</td>\n",
              "      <td>2013.42</td>\n",
              "      <td>0.0061</td>\n",
              "    </tr>\n",
              "    <tr>\n",
              "      <th>208</th>\n",
              "      <td>208</td>\n",
              "      <td>2000.50</td>\n",
              "      <td>0.7700</td>\n",
              "    </tr>\n",
              "  </tbody>\n",
              "</table>\n",
              "</div>"
            ],
            "text/plain": [
              "     Unnamed: 0     date   price\n",
              "310         310  2013.42  0.0061\n",
              "208         208  2000.50  0.7700"
            ]
          },
          "metadata": {
            "tags": []
          }
        }
      ]
    },
    {
      "cell_type": "markdown",
      "metadata": {
        "id": "-jstJh-PGDEC",
        "colab_type": "text"
      },
      "source": [
        "L'accès aux données d'un `DataFrame` s'effectue au moyen d'opérations de liste ou de dictionnaire Python courantes :"
      ]
    },
    {
      "cell_type": "code",
      "metadata": {
        "id": "X9LAPXhsFPcx",
        "colab_type": "code",
        "colab": {
          "base_uri": "https://localhost:8080/",
          "height": 127
        },
        "outputId": "309c7975-39a5-4666-ede6-60a62f997492"
      },
      "source": [
        "names = pd.Series([\"John\", \"Anna\", \"Peter\", \"Linda\"])\n",
        "locations = pd.Series([\"New York\", \"Paris\", \"Berlin\", \"London\"])\n",
        "ages = pd.Series([24, 13, 53, 33])\n",
        "data_pandas = pd.DataFrame({ 'Name': names, 'Location': locations, 'Age' : ages })\n",
        "\n",
        "#print(type(data_pandas['Name']))\n",
        "#display(data_pandas['Name'])\n",
        "\n",
        "#print(type(data_pandas['Name'][0]))\n",
        "#display(data_pandas['Name'][0])\n",
        "\n",
        "print(type(data_pandas[0:2]))\n",
        "display(data_pandas[0:2])\n"
      ],
      "execution_count": 23,
      "outputs": [
        {
          "output_type": "stream",
          "text": [
            "<class 'pandas.core.frame.DataFrame'>\n"
          ],
          "name": "stdout"
        },
        {
          "output_type": "display_data",
          "data": {
            "text/html": [
              "<div>\n",
              "<style scoped>\n",
              "    .dataframe tbody tr th:only-of-type {\n",
              "        vertical-align: middle;\n",
              "    }\n",
              "\n",
              "    .dataframe tbody tr th {\n",
              "        vertical-align: top;\n",
              "    }\n",
              "\n",
              "    .dataframe thead th {\n",
              "        text-align: right;\n",
              "    }\n",
              "</style>\n",
              "<table border=\"1\" class=\"dataframe\">\n",
              "  <thead>\n",
              "    <tr style=\"text-align: right;\">\n",
              "      <th></th>\n",
              "      <th>Name</th>\n",
              "      <th>Location</th>\n",
              "      <th>Age</th>\n",
              "    </tr>\n",
              "  </thead>\n",
              "  <tbody>\n",
              "    <tr>\n",
              "      <th>0</th>\n",
              "      <td>John</td>\n",
              "      <td>New York</td>\n",
              "      <td>24</td>\n",
              "    </tr>\n",
              "    <tr>\n",
              "      <th>1</th>\n",
              "      <td>Anna</td>\n",
              "      <td>Paris</td>\n",
              "      <td>13</td>\n",
              "    </tr>\n",
              "  </tbody>\n",
              "</table>\n",
              "</div>"
            ],
            "text/plain": [
              "   Name  Location  Age\n",
              "0  John  New York   24\n",
              "1  Anna     Paris   13"
            ]
          },
          "metadata": {
            "tags": []
          }
        }
      ]
    },
    {
      "cell_type": "markdown",
      "metadata": {
        "id": "IZxtnj8GJY0N",
        "colab_type": "text"
      },
      "source": [
        "Il est possible d'effectuer des opérations arithmétiques de base de Python sur les Series"
      ]
    },
    {
      "cell_type": "code",
      "metadata": {
        "id": "-3H0vDujJe-9",
        "colab_type": "code",
        "colab": {
          "base_uri": "https://localhost:8080/",
          "height": 171
        },
        "outputId": "55dc7c84-5664-4cc6-d84a-945abfb29339"
      },
      "source": [
        "notes_maths = pd.Series([10,10.5,12,1])\n",
        "notes_info = pd.Series([14.0,9,6,20])\n",
        "data_pandas['notes_maths'] = notes_maths\n",
        "data_pandas['notes_info'] = notes_info \n",
        "data_pandas['moy'] = (data_pandas['notes_maths']  + data_pandas['notes_info'])/2 \n",
        "display(data_pandas)"
      ],
      "execution_count": 24,
      "outputs": [
        {
          "output_type": "display_data",
          "data": {
            "text/html": [
              "<div>\n",
              "<style scoped>\n",
              "    .dataframe tbody tr th:only-of-type {\n",
              "        vertical-align: middle;\n",
              "    }\n",
              "\n",
              "    .dataframe tbody tr th {\n",
              "        vertical-align: top;\n",
              "    }\n",
              "\n",
              "    .dataframe thead th {\n",
              "        text-align: right;\n",
              "    }\n",
              "</style>\n",
              "<table border=\"1\" class=\"dataframe\">\n",
              "  <thead>\n",
              "    <tr style=\"text-align: right;\">\n",
              "      <th></th>\n",
              "      <th>Name</th>\n",
              "      <th>Location</th>\n",
              "      <th>Age</th>\n",
              "      <th>notes_maths</th>\n",
              "      <th>notes_info</th>\n",
              "      <th>moy</th>\n",
              "    </tr>\n",
              "  </thead>\n",
              "  <tbody>\n",
              "    <tr>\n",
              "      <th>0</th>\n",
              "      <td>John</td>\n",
              "      <td>New York</td>\n",
              "      <td>24</td>\n",
              "      <td>10.0</td>\n",
              "      <td>14.0</td>\n",
              "      <td>12.00</td>\n",
              "    </tr>\n",
              "    <tr>\n",
              "      <th>1</th>\n",
              "      <td>Anna</td>\n",
              "      <td>Paris</td>\n",
              "      <td>13</td>\n",
              "      <td>10.5</td>\n",
              "      <td>9.0</td>\n",
              "      <td>9.75</td>\n",
              "    </tr>\n",
              "    <tr>\n",
              "      <th>2</th>\n",
              "      <td>Peter</td>\n",
              "      <td>Berlin</td>\n",
              "      <td>53</td>\n",
              "      <td>12.0</td>\n",
              "      <td>6.0</td>\n",
              "      <td>9.00</td>\n",
              "    </tr>\n",
              "    <tr>\n",
              "      <th>3</th>\n",
              "      <td>Linda</td>\n",
              "      <td>London</td>\n",
              "      <td>33</td>\n",
              "      <td>1.0</td>\n",
              "      <td>20.0</td>\n",
              "      <td>10.50</td>\n",
              "    </tr>\n",
              "  </tbody>\n",
              "</table>\n",
              "</div>"
            ],
            "text/plain": [
              "    Name  Location  Age  notes_maths  notes_info    moy\n",
              "0   John  New York   24         10.0        14.0  12.00\n",
              "1   Anna     Paris   13         10.5         9.0   9.75\n",
              "2  Peter    Berlin   53         12.0         6.0   9.00\n",
              "3  Linda    London   33          1.0        20.0  10.50"
            ]
          },
          "metadata": {
            "tags": []
          }
        }
      ]
    },
    {
      "cell_type": "code",
      "metadata": {
        "id": "LaS4hPJ_p2Z5",
        "colab_type": "code",
        "outputId": "0b71ddcd-3eca-48f3-b417-fd5cf3003e61",
        "colab": {
          "base_uri": "https://localhost:8080/",
          "height": 79
        }
      },
      "source": [
        "# Select all rows that have an age column greater than 30\n",
        "display(data_pandas[data_pandas.Name == \"Anna\"])"
      ],
      "execution_count": 25,
      "outputs": [
        {
          "output_type": "display_data",
          "data": {
            "text/html": [
              "<div>\n",
              "<style scoped>\n",
              "    .dataframe tbody tr th:only-of-type {\n",
              "        vertical-align: middle;\n",
              "    }\n",
              "\n",
              "    .dataframe tbody tr th {\n",
              "        vertical-align: top;\n",
              "    }\n",
              "\n",
              "    .dataframe thead th {\n",
              "        text-align: right;\n",
              "    }\n",
              "</style>\n",
              "<table border=\"1\" class=\"dataframe\">\n",
              "  <thead>\n",
              "    <tr style=\"text-align: right;\">\n",
              "      <th></th>\n",
              "      <th>Name</th>\n",
              "      <th>Location</th>\n",
              "      <th>Age</th>\n",
              "      <th>notes_maths</th>\n",
              "      <th>notes_info</th>\n",
              "      <th>moy</th>\n",
              "    </tr>\n",
              "  </thead>\n",
              "  <tbody>\n",
              "    <tr>\n",
              "      <th>1</th>\n",
              "      <td>Anna</td>\n",
              "      <td>Paris</td>\n",
              "      <td>13</td>\n",
              "      <td>10.5</td>\n",
              "      <td>9.0</td>\n",
              "      <td>9.75</td>\n",
              "    </tr>\n",
              "  </tbody>\n",
              "</table>\n",
              "</div>"
            ],
            "text/plain": [
              "   Name Location  Age  notes_maths  notes_info   moy\n",
              "1  Anna    Paris   13         10.5         9.0  9.75"
            ]
          },
          "metadata": {
            "tags": []
          }
        }
      ]
    },
    {
      "cell_type": "markdown",
      "metadata": {
        "id": "GDlsKGPCp2Z7",
        "colab_type": "text"
      },
      "source": [
        "> Requêtes : \n",
        "- la liste"
      ]
    },
    {
      "cell_type": "markdown",
      "metadata": {
        "id": "fzhd4bSTNMim",
        "colab_type": "text"
      },
      "source": [
        "La méthode Series.apply convient pour les transformations à une colonne plus complexes. Comme la fonction map de Python, elle accepte en argument une fonction lambda, appliquée à chaque valeur.\n",
        "\n",
        "L'exemple ci-dessous permet de créer une Series signalant si la population dépasse ou non un million d'habitants :"
      ]
    },
    {
      "cell_type": "code",
      "metadata": {
        "id": "XpScDmyGNN63",
        "colab_type": "code",
        "colab": {}
      },
      "source": [
        "notes_info.apply(lambda val: val > 10)"
      ],
      "execution_count": 0,
      "outputs": []
    },
    {
      "cell_type": "markdown",
      "metadata": {
        "id": "Xj3NmcZfdeWe",
        "colab_type": "text"
      },
      "source": [
        " ## Exercice n° 1\n",
        "\n",
        "Modifiez  `data_pandas` en ajoutant une colonne booléenne qui prend la valeur True si et seulement si les *deux* conditions suivantes sont remplies :\n",
        "\n",
        "  * La ville porte le nom d'un saint.\n",
        "  * La note est supérieure à 10.\n",
        "\n",
        "**Remarque** : Pour combiner des `Series` booléennes, utilisez des opérateurs de bits, pas les opérateurs booléens classiques. Par exemple, pour le *ET logique*, utilisez `&` au lieu de `and`.\n",
        "\n",
        "**Astuce** : En espagnol, \"San\" signifie \"saint\"."
      ]
    }
  ]
}