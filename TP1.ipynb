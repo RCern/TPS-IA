{
  "nbformat": 4,
  "nbformat_minor": 0,
  "metadata": {
    "kernelspec": {
      "display_name": "Python 3",
      "language": "python",
      "name": "python3"
    },
    "language_info": {
      "codemirror_mode": {
        "name": "ipython",
        "version": 3
      },
      "file_extension": ".py",
      "mimetype": "text/x-python",
      "name": "python",
      "nbconvert_exporter": "python",
      "pygments_lexer": "ipython3",
      "version": "3.7.3"
    },
    "colab": {
      "name": "TP1.ipynb",
      "provenance": [],
      "collapsed_sections": [
        "nkA57iw0p2Yx",
        "i3La0B_Ip2Zw"
      ],
      "include_colab_link": true
    }
  },
  "cells": [
    {
      "cell_type": "markdown",
      "metadata": {
        "id": "view-in-github",
        "colab_type": "text"
      },
      "source": [
        "<a href=\"https://colab.research.google.com/github/securitylab-repository/TPS-IA/blob/master/TP1.ipynb\" target=\"_parent\"><img src=\"https://colab.research.google.com/assets/colab-badge.svg\" alt=\"Open In Colab\"/></a>"
      ]
    },
    {
      "cell_type": "markdown",
      "metadata": {
        "id": "9SQqqqNOp2Yt",
        "colab_type": "text"
      },
      "source": [
        "# TP 1 : Introduction\n",
        "***Objectif: Apprendre à utiliser les librairies du machine learning***"
      ]
    },
    {
      "cell_type": "markdown",
      "metadata": {
        "id": "nkA57iw0p2Yx",
        "colab_type": "text"
      },
      "source": [
        "## [NumPy array](https://github.com/ageron/handson-ml2/blob/master/tools_numpy.ipynb)\n",
        "Toutes les données acceptées par [Scikit-Learn](https://scikit-learn.org/stable/) sont converties en **NumPy array**. Sa structure de base est la classe **ndarray** qui est un vecteur (liste) à n-dimensions. Tous les éléments de la liste doivent être de même type."
      ]
    },
    {
      "cell_type": "code",
      "metadata": {
        "id": "bMO5HFRup2Yz",
        "colab_type": "code",
        "colab": {}
      },
      "source": [
        "import numpy as np\n",
        "\n",
        "x = np.array([[1, 2, 3], [4, 5, 6],[7, 8, 9],[10,11,12],[13,14,15],[16,17,18],[19,20,21]])\n",
        "print(\"x:\\n{}\".format(x))\n",
        "print(np.ma.size(x,axis=1))"
      ],
      "execution_count": 0,
      "outputs": []
    },
    {
      "cell_type": "code",
      "metadata": {
        "id": "69C0l554p2Y7",
        "colab_type": "code",
        "colab": {}
      },
      "source": [
        "print(type(x))"
      ],
      "execution_count": 0,
      "outputs": []
    },
    {
      "cell_type": "code",
      "metadata": {
        "id": "9wpu_7_fp2Y_",
        "colab_type": "code",
        "colab": {}
      },
      "source": [
        "print(x.shape)\n"
      ],
      "execution_count": 0,
      "outputs": []
    },
    {
      "cell_type": "markdown",
      "metadata": {
        "id": "6PYZWjD-vhEp",
        "colab_type": "text"
      },
      "source": [
        "> Que représente la propriété ***shape*** ?\n",
        "\n",
        "\n",
        "\n"
      ]
    },
    {
      "cell_type": "markdown",
      "metadata": {
        "id": "UZk9v1rb-m6a",
        "colab_type": "text"
      },
      "source": [
        "> Utiliser `numpy` pour créer un vecteur de dimension (1,4) puis (4,1)\n",
        "\n",
        "> Utiliser `numpy` pour créer un vecteur (matrice) de dimension (3,2). Ne pas utiliser la fonction `np.mat()`"
      ]
    },
    {
      "cell_type": "markdown",
      "metadata": {
        "id": "728g-rGZ16P3",
        "colab_type": "text"
      },
      "source": [
        "> En utilisant les fonctions `np.arrange` ou `np.linspace`, générez une liste de $6$ *floats* compris entre $0$ et $\\frac{5}{3}$\n",
        "\n",
        "---\n",
        "\n"
      ]
    },
    {
      "cell_type": "code",
      "metadata": {
        "id": "nM2DBk_C2A3x",
        "colab_type": "code",
        "colab": {}
      },
      "source": [
        "np.random.rand(3,4)\n"
      ],
      "execution_count": 0,
      "outputs": []
    },
    {
      "cell_type": "code",
      "metadata": {
        "id": "mf6ALwfJ2aUp",
        "colab_type": "code",
        "colab": {}
      },
      "source": [
        "np.random.randn(3,4)"
      ],
      "execution_count": 0,
      "outputs": []
    },
    {
      "cell_type": "markdown",
      "metadata": {
        "id": "67Z4WXFB22zy",
        "colab_type": "text"
      },
      "source": [
        "> Que réalisent les deux fonctions `rand` et `randn` ?"
      ]
    },
    {
      "cell_type": "code",
      "metadata": {
        "id": "E12nq3333it4",
        "colab_type": "code",
        "outputId": "3e583f9c-cead-4a7d-ecae-d3c3c1b71cb6",
        "colab": {
          "base_uri": "https://localhost:8080/",
          "height": 295
        }
      },
      "source": [
        "%matplotlib inline\n",
        "import matplotlib.pyplot as plt\n",
        "plt.hist(np.random.rand(100000), density=True, bins=100, histtype=\"step\", color=\"blue\", label=\"rand\")\n",
        "plt.hist(np.random.randn(100000), density=True, bins=100, histtype=\"step\", color=\"red\", label=\"randn\")\n",
        "plt.axis([-2.5, 2.5, 0, 1.1])\n",
        "plt.legend(loc = \"upper left\")\n",
        "plt.title(\"Random distributions\")\n",
        "plt.xlabel(\"Value\")\n",
        "plt.ylabel(\"Density\")\n",
        "plt.show()"
      ],
      "execution_count": 0,
      "outputs": [
        {
          "output_type": "display_data",
          "data": {
            "image/png": "[encoded data removed]",
            "text/plain": [
              "<Figure size 432x288 with 1 Axes>"
            ]
          },
          "metadata": {
            "tags": []
          }
        }
      ]
    },
    {
      "cell_type": "markdown",
      "metadata": {
        "id": "Pp4Y-E133_zv",
        "colab_type": "text"
      },
      "source": [
        "> Quelle est la principale différence entre `rand` et `randn`?"
      ]
    },
    {
      "cell_type": "code",
      "metadata": {
        "id": "Sy7GznkDW9QZ",
        "colab_type": "code",
        "colab": {}
      },
      "source": [
        "vector = np.array([1, 2, 3, 4, 5, 6])\n",
        "\n",
        "# Création de matrice\n",
        "matrix = np.array([[1, 2, 3],\n",
        "                   [4, 5, 6],\n",
        "                   [7, 8, 9]])\n"
      ],
      "execution_count": 0,
      "outputs": []
    },
    {
      "cell_type": "markdown",
      "metadata": {
        "id": "sb0JEamQXAtE",
        "colab_type": "text"
      },
      "source": [
        "> Sélectionner puis afficher tous les éléments du vecteur `vector`\n",
        "\n",
        "> Sélectionner puis afficher les éléments jusqu'au $3^{ème}$ élément inclut du vecteur `vector`\n",
        "\n",
        ">  Sélectionner puis afficher les éléments à partir du $3^{ème}$ élément inclut du vecteur `vector`\n",
        "\n",
        "> Sélectionner puis afficher l'avant dernier élément du vecteur `vector`\n",
        "\n",
        ">  Sélectionner les deux premières lignes et toutes les colonnes de la matrice \n",
        "> Sélectionner toutes les lignes et la seconde colonne\n",
        "\n",
        "> Calculer le `maximum`, `minimum` de chaque colonne de la matrice\n",
        "\n",
        "> Calculer la `moyenne`, la `trace`, le `déterminant` et le `rang` de la matrice\n",
        "\n",
        "> Calculer la `transposée` de la matrice\n",
        "\n",
        "> Transformer la matrice en une liste\n",
        "\n",
        "> Extraire la `diagonal` de la matrice\n"
      ]
    },
    {
      "cell_type": "code",
      "metadata": {
        "id": "QAsoiWfAqBku",
        "colab_type": "code",
        "colab": {}
      },
      "source": [
        "import numpy as np\n",
        "addition100 = lambda i : i + 100\n",
        "\n",
        "matrix = np.array([[1,2],\n",
        "                   [3,4],\n",
        "                  [5,6]])\n",
        "\n",
        "matrix_addtion = np.vectorize(addition100)\n",
        "matrix100 = matrix_addtion(matrix)\n",
        "print(matrix100)"
      ],
      "execution_count": 0,
      "outputs": []
    },
    {
      "cell_type": "markdown",
      "metadata": {
        "id": "XBOFB2tXp5Xf",
        "colab_type": "text"
      },
      "source": [
        "> Expliquez le code ci-dessus"
      ]
    },
    {
      "cell_type": "markdown",
      "metadata": {
        "id": "WE5vahT0p2Zg",
        "colab_type": "text"
      },
      "source": [
        "## [SciPy](https://docs.scipy.org/doc/scipy/reference/)\n"
      ]
    },
    {
      "cell_type": "markdown",
      "metadata": {
        "id": "0to6uzRaVami",
        "colab_type": "text"
      },
      "source": [
        "> Génération d'une matrice composée que de $1$ dans la diagonale et des $0$ parout ailleurs "
      ]
    },
    {
      "cell_type": "code",
      "metadata": {
        "id": "2LAFLOSop2Zh",
        "colab_type": "code",
        "colab": {}
      },
      "source": [
        "from scipy import sparse\n",
        "\n",
        "eye = np.eye(4,4,dtype=float,k=0)\n",
        "print(\"NumPy array:\\n\", eye)"
      ],
      "execution_count": 0,
      "outputs": []
    },
    {
      "cell_type": "code",
      "metadata": {
        "id": "I6qThzRbp2Zm",
        "colab_type": "code",
        "colab": {}
      },
      "source": [
        "sparse_matrix = sparse.csr_matrix(eye)\n",
        "print(\"\\nSciPy sparse CSR matrix:\\n\", sparse_matrix)"
      ],
      "execution_count": 0,
      "outputs": []
    },
    {
      "cell_type": "markdown",
      "metadata": {
        "id": "59q2K1jPp2Zl",
        "colab_type": "text"
      },
      "source": [
        "> Que réalise le code ci-dessus"
      ]
    },
    {
      "cell_type": "markdown",
      "metadata": {
        "id": "9eSlLctvp2Zq",
        "colab_type": "text"
      },
      "source": [
        "> Modifiez $k$ en $1$ puis en $-1$, ensuite regénérez la matrice CSR."
      ]
    },
    {
      "cell_type": "code",
      "metadata": {
        "id": "le5l6RmHp2Zr",
        "colab_type": "code",
        "colab": {}
      },
      "source": [
        "data = np.ones(4)\n",
        "row_indices = np.arange(4)\n",
        "col_indices = np.arange(4)\n",
        "eye_coo = sparse.coo_matrix((data, (row_indices, col_indices)))\n",
        "print(\"COO representation:\\n\", eye_coo)"
      ],
      "execution_count": 0,
      "outputs": []
    },
    {
      "cell_type": "markdown",
      "metadata": {
        "id": "v5RJ-F_mp2Zv",
        "colab_type": "text"
      },
      "source": [
        "Quelle est la différence avec la première méthode ?"
      ]
    },
    {
      "cell_type": "markdown",
      "metadata": {
        "id": "i3La0B_Ip2Zw",
        "colab_type": "text"
      },
      "source": [
        "## [matplotlib](https://github.com/ageron/handson-ml2/blob/master/tools_matplotlib.ipynb)\n",
        "*C'est une librairie python pour la génération de graphiques*"
      ]
    },
    {
      "cell_type": "code",
      "metadata": {
        "id": "viE1lEfpp2Zx",
        "colab_type": "code",
        "outputId": "0d34d628-f832-43fb-80a5-3047f2033fe0",
        "colab": {
          "base_uri": "https://localhost:8080/",
          "height": 283
        }
      },
      "source": [
        "%matplotlib inline\n",
        "#%matplotlib notebook\n",
        "import matplotlib.pyplot as plt\n",
        "import numpy as np\n",
        "\n",
        "x = np.linspace(-10, 10, 100)\n",
        "\n",
        "# Créer les valeurs de y en utilisant la fonction sign utilisé dans l'algorithme de percertron\n",
        "y = np.sign(x)\n",
        "\n",
        "# Visualisation des données\n",
        "plt.plot(x, y, marker=\"+\")\n",
        "plt.show()\n",
        "plt.savefig(\"ma_sigmoid_fonction.png\", transparent=True)"
      ],
      "execution_count": 3,
      "outputs": [
        {
          "output_type": "display_data",
          "data": {
            "image/png": "[encoded data removed]",
            "text/plain": [
              "<Figure size 432x288 with 1 Axes>"
            ]
          },
          "metadata": {
            "tags": []
          }
        },
        {
          "output_type": "display_data",
          "data": {
            "text/plain": [
              "<Figure size 432x288 with 0 Axes>"
            ]
          },
          "metadata": {
            "tags": []
          }
        }
      ]
    },
    {
      "cell_type": "markdown",
      "metadata": {
        "id": "wGVMAQF8p2Z1",
        "colab_type": "text"
      },
      "source": [
        "> Ajouter une étiquette à chaque axe x et y\n",
        "\n",
        "> Ajouter un titre au graphique\n",
        "\n",
        "> Afficher les fonctions suivantes : cos, sign, exp\n"
      ]
    },
    {
      "cell_type": "code",
      "metadata": {
        "id": "IfDd1bX1EtpZ",
        "colab_type": "code",
        "colab": {}
      },
      "source": [
        "x = np.linspace(-1.4, 1.4, 30)\n",
        "plt.subplot(2, 2, 1)  \n",
        "plt.plot(x, x)\n",
        "plt.subplot(2, 2, 2) \n",
        "plt.plot(x, x**2)\n",
        "plt.subplot(2, 2, 3) \n",
        "plt.plot(x, x**3)\n",
        "plt.subplot(2, 2, 4)  \n",
        "plt.plot(x, x**4)\n",
        "plt.show()"
      ],
      "execution_count": 0,
      "outputs": []
    },
    {
      "cell_type": "code",
      "metadata": {
        "id": "wms5Z3JP4M5E",
        "colab_type": "code",
        "colab": {}
      },
      "source": [
        "x = np.linspace(-1.4, 1.4, 30)\n",
        "y = np.linspace(1, 10, 30)\n",
        "fig, ax = plt.subplots(nrows=2, ncols=2, figsize=(5,5))\n",
        "\n",
        "ax[0][0].set_xlim(-2,2)\n",
        "ax[0][0].set_xlabel(r'$x$')\n",
        "ax[0][0].set_ylabel(r'$y$')\n",
        "ax[0][0].set_title('Titre')\n",
        "\n",
        "\n",
        "ax[0][0].grid(True)\n",
        "ax[1][0].grid(True)\n",
        "\n",
        "\n",
        "ax[0][0].scatter(x, y, marker='+', s=4, color='g')\n",
        "\n",
        "ax[1][1].plot(y, x,'r--', lw=2, label=r'$toto$')\n"
      ],
      "execution_count": 0,
      "outputs": []
    },
    {
      "cell_type": "markdown",
      "metadata": {
        "id": "acihnW196GZw",
        "colab_type": "text"
      },
      "source": [
        "> Expliquez le fonctionnement de `subplot`"
      ]
    },
    {
      "cell_type": "code",
      "metadata": {
        "id": "_PSo0BLb6564",
        "colab_type": "code",
        "colab": {}
      },
      "source": [
        "\n",
        "x = np.linspace(-1.5, 1.5, 30)\n",
        "px = 0.8\n",
        "py = px**2\n",
        "\n",
        "plt.plot(x, x**2, \"b-\", px, py, \"ro\")\n",
        "\n",
        "plt.text(0, 1.5, \"Square function\\n$y = x^2$\", fontsize=20, color='blue', horizontalalignment=\"center\")\n",
        "plt.text(px - 0.08, py, \"Beautiful point\", ha=\"right\", weight=\"heavy\")\n",
        "plt.text(px, py, \"x = %0.2f\\ny = %0.2f\"%(px, py), rotation=50, color='gray')\n",
        "\n",
        "plt.show()"
      ],
      "execution_count": 0,
      "outputs": []
    },
    {
      "cell_type": "code",
      "metadata": {
        "id": "w-T1WuP2A0Ad",
        "colab_type": "code",
        "colab": {}
      },
      "source": [
        "plt.plot(x, x**2, px, py, \"ro\")\n",
        "plt.annotate(\"Beautiful point\", xy=(px, py), xytext=(px-1.5,py+0.5),\n",
        "                           color=\"green\", weight=\"heavy\", fontsize=14,\n",
        "                           arrowprops={\"facecolor\": \"lightgreen\"})\n",
        "plt.show()"
      ],
      "execution_count": 0,
      "outputs": []
    },
    {
      "cell_type": "markdown",
      "metadata": {
        "id": "TJvKbbAmIZDP",
        "colab_type": "text"
      },
      "source": [
        "> Expliquez le fonctionnement des fonctions `plt.text()` et `plt.annotate()`"
      ]
    },
    {
      "cell_type": "markdown",
      "metadata": {
        "id": "ZuZTaG0Op2Z2",
        "colab_type": "text"
      },
      "source": [
        "## [Pandas](https://github.com/ageron/handson-ml2/blob/master/tools_pandas.ipynb)\n",
        "\n",
        "Objectifs:\n",
        "\n",
        "- Introduction aux structures de données `DataFrame` et `Series` de la bibliothèque Pandas \n",
        "- Accéder aux données et les manipuler dans une structure `DataFrame` et `Series`\n",
        "- Importer des données d'un fichier CSV dans un `DataFrame` Pandas\n",
        "\n",
        "Pandas est une API d'analyse de données orientée colonnes. C'est un excellent outil pour manipuler et analyser des données d'entrée.\n",
        "\n",
        "Beaucoup de frameworks d'apprentissage automatique acceptent les structures de données Pandas en entrée. \n",
        "\n"
      ]
    },
    {
      "cell_type": "markdown",
      "metadata": {
        "id": "ZjNzQt5_mlKY",
        "colab_type": "text"
      },
      "source": [
        "On distingue deux grandes catégories de structures de données Pandas :\n",
        "\n",
        "1. Le `DataFrame`, un tableau relationnel de données, avec des lignes et des colonnes étiquetées\n",
        "1. La `Series`, constituée d'une seule colonne. \n",
        "\n",
        "Un `DataFrame` contient une ou plusieurs `Series`, chacune étant étiquetée."
      ]
    },
    {
      "cell_type": "markdown",
      "metadata": {
        "id": "WTTuyMBvn-nn",
        "colab_type": "text"
      },
      "source": [
        "Pour créer une `Series`, vous pouvez notamment créer un objet `Series`. Par exemple :"
      ]
    },
    {
      "cell_type": "code",
      "metadata": {
        "id": "3yhQ0C2noBFh",
        "colab_type": "code",
        "colab": {}
      },
      "source": [
        "import pandas as pd\n",
        "from IPython.display import display\n",
        "\n",
        "pd.Series(['San Francisco', 'San Jose', 'Sacramento'])"
      ],
      "execution_count": 0,
      "outputs": []
    },
    {
      "cell_type": "markdown",
      "metadata": {
        "id": "C32qlRkJojDR",
        "colab_type": "text"
      },
      "source": [
        "Pour créer un `DataFrame`, nous pouvons procéder de deux manières différentes:\n",
        "1. Il est possible de créer des objets `DataFrame` en transmettant un dictionnaire qui met en correspondance les noms de colonnes (des chaînes de caractères) avec leur `Series` respective. Lorsque la longueur de la Series ne correspond pas, les valeurs manquantes sont remplacées par des valeurs `NA/NaN` spéciales. Exemple :"
      ]
    },
    {
      "cell_type": "code",
      "metadata": {
        "id": "UefwgR8co6u0",
        "colab_type": "code",
        "colab": {}
      },
      "source": [
        "names = pd.Series([\"John\", \"Anna\", \"Peter\", \"Linda\"])\n",
        "locations = pd.Series([\"New York\", \"Paris\", \"Berlin\", \"San fransisco\"])\n",
        "ages = pd.Series([24, 13, 53, 33])\n",
        "data_pandas = pd.DataFrame({ 'Name': names, 'Location': locations, 'Age' : ages })\n",
        "print(data_pandas.head())\n",
        "display(data_pandas)"
      ],
      "execution_count": 0,
      "outputs": []
    },
    {
      "cell_type": "markdown",
      "metadata": {
        "id": "-6kGIpRxpoQk",
        "colab_type": "text"
      },
      "source": [
        "2. Sans passer par les `Series` en utilisant de simples listes"
      ]
    },
    {
      "cell_type": "code",
      "metadata": {
        "id": "qoK0Km59p2Z2",
        "colab_type": "code",
        "colab": {}
      },
      "source": [
        "data = {'Name': [\"John\", \"Anna\", \"Peter\", \"Linda\"],\n",
        "        'Location' : [\"New York\", \"Paris\", \"Berlin\", \"San fransisco\"],\n",
        "        'Age' : [24, 13, 53, 33]\n",
        "       }\n",
        "\n",
        "data_pandas = pd.DataFrame(data)\n",
        "\n",
        "display(data_pandas)\n",
        "display(ramprice.tail())\n",
        "display(ramprice.sample(2))"
      ],
      "execution_count": 0,
      "outputs": []
    },
    {
      "cell_type": "markdown",
      "metadata": {
        "id": "tOYh98aiul-j",
        "colab_type": "text"
      },
      "source": [
        "3. A partir d'un fichier CSV:"
      ]
    },
    {
      "cell_type": "code",
      "metadata": {
        "id": "ZpZ8ByGGuq_u",
        "colab_type": "code",
        "colab": {}
      },
      "source": [
        "#ramprice = pd.read_csv('ram_price.csv',delimiter=',') # ram_price.csv est dans le dossier courrant\n",
        "ramprice = pd.read_csv('https://raw.githubusercontent.com/securitylab-repository/TPS-IA/master/datasets/ram_price.csv',delimiter=',')\n",
        "display(ramprice.head())"
      ],
      "execution_count": 0,
      "outputs": []
    },
    {
      "cell_type": "markdown",
      "metadata": {
        "id": "ASogTnd-xP4u",
        "colab_type": "text"
      },
      "source": [
        "La méthode `DataFrame.describe` permet d'afficher des statistiques intéressantes concernant un `DataFrame`"
      ]
    },
    {
      "cell_type": "code",
      "metadata": {
        "id": "IkpmIH7KxUpM",
        "colab_type": "code",
        "colab": {}
      },
      "source": [
        "ramprice.describe()"
      ],
      "execution_count": 0,
      "outputs": []
    },
    {
      "cell_type": "markdown",
      "metadata": {
        "id": "_thhNXXsxYC6",
        "colab_type": "text"
      },
      "source": [
        "Autre fonction puissante de Pandas : la représentation graphique. Avec `DataFrame.hist()`, par exemple, vous pouvez vérifier rapidement la façon dont les valeurs d'une colonne (features) sont distribuées :"
      ]
    },
    {
      "cell_type": "code",
      "metadata": {
        "id": "e5iGAIpqvtdD",
        "colab_type": "code",
        "colab": {}
      },
      "source": [
        "ramprice.hist('price')"
      ],
      "execution_count": 0,
      "outputs": []
    },
    {
      "cell_type": "markdown",
      "metadata": {
        "id": "-jstJh-PGDEC",
        "colab_type": "text"
      },
      "source": [
        "L'accès aux données d'un `DataFrame` s'effectue au moyen d'opérations de liste ou de dictionnaire Python courantes :"
      ]
    },
    {
      "cell_type": "code",
      "metadata": {
        "id": "X9LAPXhsFPcx",
        "colab_type": "code",
        "colab": {}
      },
      "source": [
        "names = pd.Series([\"John\", \"Anna\", \"Peter\", \"Linda\"])\n",
        "locations = pd.Series([\"New York\", \"Paris\", \"Berlin\", \"London\"])\n",
        "ages = pd.Series([24, 13, 53, 33])\n",
        "data_pandas = pd.DataFrame({ 'Name': names, 'Location': locations, 'Age' : ages })\n",
        "\n",
        "#print(type(data_pandas['Name']))\n",
        "#display(data_pandas['Name'])\n",
        "\n",
        "#print(type(data_pandas['Name'][0]))\n",
        "#display(data_pandas['Name'][0])\n",
        "\n",
        "print(type(data_pandas[0:2]))\n",
        "display(data_pandas[0:2])\n"
      ],
      "execution_count": 0,
      "outputs": []
    },
    {
      "cell_type": "markdown",
      "metadata": {
        "id": "IZxtnj8GJY0N",
        "colab_type": "text"
      },
      "source": [
        "Il est possible d'effectuer des opérations arithmétiques de base de Python sur les Series"
      ]
    },
    {
      "cell_type": "code",
      "metadata": {
        "id": "-3H0vDujJe-9",
        "colab_type": "code",
        "colab": {}
      },
      "source": [
        "notes_maths = pd.Series([10,10.5,12,1])\n",
        "notes_info = pd.Series([14.0,9,6,20])\n",
        "data_pandas['notes_maths'] = notes_maths\n",
        "data_pandas['notes_info'] = notes_info \n",
        "data_pandas['moy'] = (data_pandas['notes_maths']  + data_pandas['notes_info'])/2 \n",
        "display(data_pandas)"
      ],
      "execution_count": 0,
      "outputs": []
    },
    {
      "cell_type": "markdown",
      "metadata": {
        "id": "m1rlTiUzleY1",
        "colab_type": "text"
      },
      "source": [
        "> Sélectionner toutes les lignes dont l'age est supérieur à $30$\n",
        " \n",
        "> Sélectionner toutes les lignes dont l'age est supérieur à $13$ et la moy > $10$\n",
        "\n",
        "> Sélectionner toutes les lignes correspondant à \"Anna\""
      ]
    },
    {
      "cell_type": "markdown",
      "metadata": {
        "id": "fzhd4bSTNMim",
        "colab_type": "text"
      },
      "source": [
        "La méthode `Series.apply` convient pour les transformations à une colonne plus complexes. Comme la fonction map de Python, elle accepte en argument une fonction lambda, appliquée à chaque valeur.\n"
      ]
    },
    {
      "cell_type": "code",
      "metadata": {
        "id": "XpScDmyGNN63",
        "colab_type": "code",
        "colab": {}
      },
      "source": [
        "notes_info.apply(lambda val: val > 10)"
      ],
      "execution_count": 0,
      "outputs": []
    },
    {
      "cell_type": "markdown",
      "metadata": {
        "id": "ayESVitvMw9A",
        "colab_type": "text"
      },
      "source": [
        "> Que réalise le code ci-dessus ?"
      ]
    },
    {
      "cell_type": "markdown",
      "metadata": {
        "id": "Xj3NmcZfdeWe",
        "colab_type": "text"
      },
      "source": [
        " ## Exercice n° 1\n",
        "\n",
        "Modifiez  `data_pandas` en ajoutant une colonne booléenne qui prend la valeur `True` si et seulement si les *deux* conditions suivantes sont remplies :\n",
        "\n",
        "  * La ville porte le nom d'un saint.\n",
        "  * La note est supérieure à $10$.\n",
        "\n",
        "**Remarque** : Pour combiner des `Series` booléennes, utilisez des opérateurs de bits, pas les opérateurs booléens classiques. Par exemple, pour le *ET logique*, utilisez `&` au lieu de `and`.\n",
        "\n",
        "**Astuce** : En espagnol, \"San\" signifie \"saint\"."
      ]
    },
    {
      "cell_type": "markdown",
      "metadata": {
        "id": "5C4AWEZkrLud",
        "colab_type": "text"
      },
      "source": [
        " ## Exercice n° 2\n",
        "1. Récupérez ce [dataset](https://raw.githubusercontent.com/securitylab-repository/TPS-IA/master/datasets/housing.csv) au format CSV représentant des données immobilières\n"
      ]
    },
    {
      "cell_type": "markdown",
      "metadata": {
        "id": "QQY1-V6OZJ-U",
        "colab_type": "text"
      },
      "source": [
        "2. Afficher les statistiques sur le dataset"
      ]
    },
    {
      "cell_type": "markdown",
      "metadata": {
        "id": "s5i0_eLSakzX",
        "colab_type": "text"
      },
      "source": [
        "3. Supprimer les lignes dont certaines colonnes ne ne sont pas définies. On utilisera:\n",
        "-  `housing[housing.isnull().any(axis=1)]` pour détecter les valeurs nulles\n",
        "- `housing.dropna(subset=[\"nom_colonne\"])` pour les supprimer"
      ]
    },
    {
      "cell_type": "markdown",
      "metadata": {
        "id": "nn8NvjVyl_hX",
        "colab_type": "text"
      },
      "source": [
        "4. Transformez les valeurs de la colonne `ocean_proximity` en nombre. Utilisez la classe `OrdinalEncoder` de la librairie `sklearn.preprocessing`"
      ]
    },
    {
      "cell_type": "markdown",
      "metadata": {
        "id": "RnadMLZuoEzL",
        "colab_type": "text"
      },
      "source": [
        "5. Afficher l'hitogramme de chaque colonne"
      ]
    },
    {
      "cell_type": "markdown",
      "metadata": {
        "id": "i1fnMOtQodMi",
        "colab_type": "text"
      },
      "source": [
        "6. Normalisez le dataset"
      ]
    }
  ]
}