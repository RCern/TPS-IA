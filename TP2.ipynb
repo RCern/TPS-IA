{
  "nbformat": 4,
  "nbformat_minor": 0,
  "metadata": {
    "colab": {
      "name": "TP2.ipynb",
      "provenance": [],
      "collapsed_sections": [],
      "authorship_tag": "ABX9TyMfEV9JL/t51Cj0s7Kwb60a",
      "include_colab_link": true
    },
    "kernelspec": {
      "name": "python3",
      "display_name": "Python 3"
    }
  },
  "cells": [
    {
      "cell_type": "markdown",
      "metadata": {
        "id": "view-in-github",
        "colab_type": "text"
      },
      "source": [
        "<a href=\"https://colab.research.google.com/github/securitylab-repository/TPS-IA/blob/master/TP2.ipynb\" target=\"_parent\"><img src=\"https://colab.research.google.com/assets/colab-badge.svg\" alt=\"Open In Colab\"/></a>"
      ]
    },
    {
      "cell_type": "code",
      "metadata": {
        "id": "Vrc4GkPd8MaT",
        "colab_type": "code",
        "colab": {}
      },
      "source": [
        "from IPython.display import display\n",
        "import numpy as np\n",
        "import pandas as pd\n",
        "\n",
        "class Classifier:\n",
        "  def __init__(self, cls_type=\"Generic\"):\n",
        "    \n",
        "      self.cls_type = cls_type\n",
        "  \n",
        "  def __str__(self):\n",
        "    \n",
        "      return \"{} classifier\".format(self.cls_type)\n",
        "  \n",
        "  def __repr__(self):\n",
        "    \n",
        "      return \"{} classifier\".format(self.cls_type)\n",
        "\n",
        "  def _ipython_display_(self):\n",
        "    \n",
        "      return \"{} classifier\".format(self.cls_type)\n",
        "\n",
        "\n",
        "  def __getattr__(self,name):\n",
        "\n",
        "      print(\"{} don't exist in {} classifier\".format(name,self.cls_type))\n",
        "\n",
        "\n",
        "class LinearClassifier(Classifier):\n",
        "  \n",
        "  def __init__(self, alpha=1):\n",
        "\n",
        "    Classifier.__init__(self,\"LinearRegression\")\n",
        "    self.alpha = alpha\n",
        "    \n",
        "    \n",
        "  def fit(self,X_train= [],y_train = [],max_steps = 10000):\n",
        "\n",
        "    self.steps = 0\n",
        "    self.max_steps = max_steps\n",
        "    self.X_train = np.array(X_train)\n",
        "    self.y_train = np.array([y_train]).transpose() \n",
        "\n",
        "    x_nb_col = np.ma.size(self.X_train,axis=1)\n",
        "    self.theta = np.array([np.linspace(1,2,x_nb_col)]).transpose()\n",
        "    \n",
        "    self.m = np.ma.size(self.X_train,axis=0)\n",
        "   \n",
        "    self.theta = self.theta - (self.alpha/self.m) * self.X_train.T @  ((self.X_train @ self.theta) - self.y_train )\n",
        "    theta_before = self.theta\n",
        "    \n",
        "    \n",
        "    while (self.steps < self.max_steps):\n",
        "\n",
        "      self.theta = self.theta - (self.alpha/self.m) * self.X_train.transpose() @  ((self.X_train @ self.theta) - self.y_train )\n",
        "      #print(\"theta = {}\".format(self.theta))\n",
        "      self.cost()\n",
        "      if(np.array_equal(self.theta,theta_before)):\n",
        "        break ;\n",
        "      theta_before = self.theta\n",
        "      self.steps += 1\n",
        "\n",
        "\n",
        "  def cost(self):\n",
        "    cost = (1.0 / 2.0 * self.m) * ((self.X_train @ self.theta) - self.y_train).T @ ((self.X_train @ self.theta) - self.y_train)\n",
        "    print(cost)\n",
        "\n",
        "\n",
        "  def predict(self):\n",
        "\n",
        "    return \n",
        "\n",
        "\n",
        "\n",
        "\n"
      ],
      "execution_count": 0,
      "outputs": []
    },
    {
      "cell_type": "code",
      "metadata": {
        "id": "L7dGpxQ0zsz_",
        "colab_type": "code",
        "outputId": "192789af-2b5d-4e8f-cc46-293a63f34ae7",
        "colab": {
          "base_uri": "https://localhost:8080/",
          "height": 1000
        }
      },
      "source": [
        "housing = pd.read_csv('https://raw.githubusercontent.com/securitylab-repository/TPS-IA/master/datasets/housing.csv',delimiter=',')\n",
        "y = housing['median_house_value']\n",
        "\n",
        "x = housing.loc[:,['median_income','total_rooms']]\n",
        "\n",
        "l_cls = LinearClassifier(1)\n",
        "\n",
        "\n",
        "\n",
        "l_cls.fit(x.values,y.values,90)"
      ],
      "execution_count": 19,
      "outputs": [
        {
          "output_type": "stream",
          "text": [
            "[[1.05474201e+47]]\n",
            "[[1.44543387e+61]]\n",
            "[[1.98084369e+75]]\n",
            "[[2.71457714e+89]]\n",
            "[[3.72009618e+103]]\n",
            "[[5.09807416e+117]]\n",
            "[[6.98647533e+131]]\n",
            "[[9.57436788e+145]]\n",
            "[[1.31208536e+160]]\n",
            "[[1.79810096e+174]]\n",
            "[[2.46414382e+188]]\n",
            "[[3.3768987e+202]]\n",
            "[[4.62775133e+216]]\n",
            "[[6.34193804e+230]]\n",
            "[[8.69108457e+244]]\n",
            "[[1.19103893e+259]]\n",
            "[[1.63221715e+273]]\n",
            "[[2.23681424e+287]]\n",
            "[[3.06536291e+301]]\n",
            "[[inf]]\n",
            "[[inf]]\n",
            "[[inf]]\n",
            "[[inf]]\n",
            "[[inf]]\n",
            "[[inf]]\n",
            "[[inf]]\n",
            "[[inf]]\n",
            "[[inf]]\n",
            "[[inf]]\n",
            "[[inf]]\n",
            "[[inf]]\n",
            "[[inf]]\n",
            "[[inf]]\n",
            "[[inf]]\n",
            "[[inf]]\n",
            "[[inf]]\n",
            "[[inf]]\n",
            "[[inf]]\n",
            "[[inf]]\n",
            "[[inf]]\n",
            "[[inf]]\n",
            "[[inf]]\n",
            "[[inf]]\n",
            "[[nan]]\n",
            "[[nan]]\n",
            "[[nan]]\n",
            "[[nan]]\n",
            "[[nan]]\n",
            "[[nan]]\n",
            "[[nan]]\n",
            "[[nan]]\n",
            "[[nan]]\n",
            "[[nan]]\n",
            "[[nan]]\n",
            "[[nan]]\n",
            "[[nan]]\n",
            "[[nan]]\n",
            "[[nan]]\n",
            "[[nan]]\n",
            "[[nan]]\n",
            "[[nan]]\n",
            "[[nan]]\n",
            "[[nan]]\n",
            "[[nan]]\n",
            "[[nan]]\n",
            "[[nan]]\n",
            "[[nan]]\n",
            "[[nan]]\n",
            "[[nan]]\n",
            "[[nan]]\n",
            "[[nan]]\n",
            "[[nan]]\n",
            "[[nan]]\n",
            "[[nan]]\n",
            "[[nan]]\n",
            "[[nan]]\n",
            "[[nan]]\n",
            "[[nan]]\n",
            "[[nan]]\n",
            "[[nan]]\n",
            "[[nan]]\n",
            "[[nan]]\n",
            "[[nan]]\n",
            "[[nan]]\n",
            "[[nan]]\n",
            "[[nan]]\n",
            "[[nan]]\n",
            "[[nan]]\n",
            "[[nan]]\n",
            "[[nan]]\n"
          ],
          "name": "stdout"
        },
        {
          "output_type": "stream",
          "text": [
            "/usr/local/lib/python3.6/dist-packages/ipykernel_launcher.py:64: RuntimeWarning: overflow encountered in matmul\n",
            "/usr/local/lib/python3.6/dist-packages/ipykernel_launcher.py:64: RuntimeWarning: overflow encountered in multiply\n",
            "/usr/local/lib/python3.6/dist-packages/ipykernel_launcher.py:54: RuntimeWarning: overflow encountered in matmul\n",
            "/usr/local/lib/python3.6/dist-packages/ipykernel_launcher.py:54: RuntimeWarning: invalid value encountered in subtract\n"
          ],
          "name": "stderr"
        }
      ]
    },
    {
      "cell_type": "code",
      "metadata": {
        "id": "cm7V3dRFS0-5",
        "colab_type": "code",
        "colab": {}
      },
      "source": [
        "theta = np.array([1,3])\n",
        "x = np.array([[3,4],\n",
        "              [5,6],\n",
        "              [1,3]])\n",
        "\n",
        "print(x * theta)"
      ],
      "execution_count": 0,
      "outputs": []
    },
    {
      "cell_type": "code",
      "metadata": {
        "id": "A9fhUs3nwraK",
        "colab_type": "code",
        "outputId": "027dd0de-d581-4dcf-8388-308ff2a20df4",
        "colab": {
          "base_uri": "https://localhost:8080/",
          "height": 218
        }
      },
      "source": [
        "import numpy as np\n",
        "np.arange(4)\n",
        "poly = [4,3]** np.arange(4)\n",
        "poly\n"
      ],
      "execution_count": 0,
      "outputs": [
        {
          "output_type": "error",
          "ename": "ValueError",
          "evalue": "ignored",
          "traceback": [
            "\u001b[0;31m---------------------------------------------------------------------------\u001b[0m",
            "\u001b[0;31mValueError\u001b[0m                                Traceback (most recent call last)",
            "\u001b[0;32m<ipython-input-10-f06e0a7b0217>\u001b[0m in \u001b[0;36m<module>\u001b[0;34m()\u001b[0m\n\u001b[1;32m      1\u001b[0m \u001b[0;32mimport\u001b[0m \u001b[0mnumpy\u001b[0m \u001b[0;32mas\u001b[0m \u001b[0mnp\u001b[0m\u001b[0;34m\u001b[0m\u001b[0;34m\u001b[0m\u001b[0m\n\u001b[1;32m      2\u001b[0m \u001b[0mnp\u001b[0m\u001b[0;34m.\u001b[0m\u001b[0marange\u001b[0m\u001b[0;34m(\u001b[0m\u001b[0;36m4\u001b[0m\u001b[0;34m)\u001b[0m\u001b[0;34m\u001b[0m\u001b[0;34m\u001b[0m\u001b[0m\n\u001b[0;32m----> 3\u001b[0;31m \u001b[0mpoly\u001b[0m \u001b[0;34m=\u001b[0m \u001b[0;34m[\u001b[0m\u001b[0;36m4\u001b[0m\u001b[0;34m,\u001b[0m\u001b[0;36m3\u001b[0m\u001b[0;34m]\u001b[0m\u001b[0;34m**\u001b[0m \u001b[0mnp\u001b[0m\u001b[0;34m.\u001b[0m\u001b[0marange\u001b[0m\u001b[0;34m(\u001b[0m\u001b[0;36m4\u001b[0m\u001b[0;34m)\u001b[0m\u001b[0;34m\u001b[0m\u001b[0;34m\u001b[0m\u001b[0m\n\u001b[0m\u001b[1;32m      4\u001b[0m \u001b[0mpoly\u001b[0m\u001b[0;34m\u001b[0m\u001b[0;34m\u001b[0m\u001b[0m\n",
            "\u001b[0;31mValueError\u001b[0m: operands could not be broadcast together with shapes (2,) (4,) "
          ]
        }
      ]
    }
  ]
}