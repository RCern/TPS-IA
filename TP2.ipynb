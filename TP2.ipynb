{
  "nbformat": 4,
  "nbformat_minor": 0,
  "metadata": {
    "colab": {
      "name": "TP2.ipynb",
      "provenance": [],
      "collapsed_sections": [],
      "include_colab_link": true
    },
    "kernelspec": {
      "display_name": "Python 3",
      "language": "python",
      "name": "python3"
    },
    "language_info": {
      "codemirror_mode": {
        "name": "ipython",
        "version": 3
      },
      "file_extension": ".py",
      "mimetype": "text/x-python",
      "name": "python",
      "nbconvert_exporter": "python",
      "pygments_lexer": "ipython3",
      "version": "3.7.3"
    }
  },
  "cells": [
    {
      "cell_type": "markdown",
      "metadata": {
        "id": "view-in-github",
        "colab_type": "text"
      },
      "source": [
        "<a href=\"https://colab.research.google.com/github/securitylab-repository/TPS-IA/blob/master/TP2.ipynb\" target=\"_parent\"><img src=\"https://colab.research.google.com/assets/colab-badge.svg\" alt=\"Open In Colab\"/></a>"
      ]
    },
    {
      "cell_type": "markdown",
      "metadata": {
        "id": "h48xNV1-_pp4",
        "colab_type": "text"
      },
      "source": [
        "# TP 2\n",
        "\n",
        "***L'objectif du TP est d'implémenter un classifier utilisant***\n",
        "\n",
        "- ***la régression linéaire***\n",
        "- ***la régression logistique***"
      ]
    },
    {
      "cell_type": "markdown",
      "metadata": {
        "id": "wQU1gPoHoBdc",
        "colab_type": "text"
      },
      "source": [
        "## Récupération du dataset\n",
        "\n",
        "> Charger les données de ce fichier [csv](https://raw.githubusercontent.com/securitylab-repository/TPS-IA/master/datasets/housing.csv) représentant les prix des maisons selon plusieurs caractéristiques.\n",
        "\n",
        "> On s'intéresse ici à deux attributs \n",
        "- `median_income` et `total_rooms`\n",
        "\n",
        "> Créer la matrice $X$ représentant les exemples d'entraînement\n",
        "\n",
        "> La cible est l'attribut `median_house_value`.\n",
        "\n",
        "> Créer le vecteur colonne $y$ représentant la cible\n",
        "\n",
        "> ***Utiliser par exemple la fonction `loc()` de la classe `DataFrame` pour contruire $X$ et $y$. La fonction `loc()` renvoie un objet de type `DataFrame`***"
      ]
    },
    {
      "cell_type": "markdown",
      "metadata": {
        "id": "IblKDp4hoXe6",
        "colab_type": "text"
      },
      "source": [
        "## Création du classifier\n",
        "\n",
        "***Soit la classe de base abstraite suivante représentant un classifier générique:***"
      ]
    },
    {
      "cell_type": "code",
      "metadata": {
        "id": "9KE2qF1j_pqG",
        "colab_type": "code",
        "colab": {}
      },
      "source": [
        "from IPython.display import display\n",
        "import numpy as np\n",
        "import pandas as pd\n",
        "import abc\n",
        "\n",
        "class Classifier(metaclass=abc.ABCMeta):\n",
        "  def __init__(self, cls_type=\"Generic\"):\n",
        "    \n",
        "      self.cls_type = cls_type\n",
        "  \n",
        "  def __str__(self):\n",
        "    \n",
        "      return \"{} classifier\".format(self.cls_type)\n",
        "  \n",
        "  def __repr__(self):\n",
        "    \n",
        "      return \"{} classifier\".format(self.cls_type)\n",
        "\n",
        "  def _ipython_display_(self):\n",
        "    \n",
        "      return \"{} classifier\".format(self.cls_type)\n",
        "\n",
        "\n",
        "  def __getattr__(self,name):\n",
        "\n",
        "      print(\"{} don't exist in {} classifier\".format(name,self.cls_type))\n",
        "        \n",
        "  @abc.abstractmethod\n",
        "  def fit():\n",
        "        \"\"\"Méthode d'entrainement de l'algorithme.\"\"\"\n",
        "\n",
        "  @abc.abstractmethod\n",
        "  def predict():\n",
        "        \"\"\"Fonction de prédiction pour une nouvelle entrée x.\"\"\"\n"
      ],
      "execution_count": 0,
      "outputs": []
    },
    {
      "cell_type": "markdown",
      "metadata": {
        "id": "nIsh04Ro_pqj",
        "colab_type": "text"
      },
      "source": [
        "> Soit la classe `LinearClassifier` héritant de la classe `Classifier` et devant implémenter l'algorithme de régression linéaire multi-variable. En utilisant les notions acquises pendant le cours:\n",
        "- Implémenter la fonction `fit(...)` qui permet d'entraîner l'algorithme de régression linéaire.\n",
        "\n",
        ">Répéter $n\\_it\\text{é}rations$ fois:\n",
        "> $\\boxed{\\theta = \\theta - \\frac{\\alpha}{m}X^{T}(X\\theta - \\vec{y})}$\n",
        "\n",
        "> Cette formule est calculée ici en plusieurs étapes: \n",
        "- Calculer fonction hpothèse $h$\n",
        "- Calculer la fonction de coût $J(\\theta)$\n",
        "- Calculer $\\nabla J(\\theta) $\n",
        "- Mettre à jour le vecteur $\\theta$\n",
        "\n",
        "- Créer la fonction `predict(...)` qui implémente la fonction d'hypothèse retenue"
      ]
    },
    {
      "cell_type": "code",
      "metadata": {
        "colab_type": "code",
        "id": "Vrc4GkPd8MaT",
        "colab": {}
      },
      "source": [
        "class LinearClassifier(Classifier):\n",
        "  \n",
        "  def __init__(self, alpha=1):\n",
        "\n",
        "    Classifier.__init__(self,\"LinearRegression\")\n",
        "    self.alpha = alpha\n",
        "    \n",
        "    \n",
        "  def fit(self,X = [],y = [],n_iterations = 10000):\n",
        "    \"\"\"\n",
        "    C'est la fonction implémentant l'algorithme de la régression linéaire.\n",
        "    \n",
        "    parameters:\n",
        "    X(DataFrame): Matrice représentant les exemples d'entrainement. Chaque ligne représente un exemple d'entrainement\n",
        "    y(DataFrame): vecteur colonne représentant toutes les étiquettes des exemples d'entrainement\n",
        "    \"\"\"\n",
        "\n",
        "    self.steps = 0\n",
        "    self.n_iterations = n_iterations\n",
        "    \n",
        "    # Features (variables, attributs)\n",
        "    self.X = X \n",
        "    \n",
        "    # Vecteur cible (étiquettes)\n",
        "    self.y = y\n",
        "    \n",
        "    # Créer une liste pour sauvegarder l'historique des coûts lors de la descente en gradient\n",
        "    #self.costs = ?\n",
        "    \n",
        "    # Créer une Liste pour sauvegarder l'historique des paramètres theta lors de la descente en gradient\n",
        "    #self.thetas = ?\n",
        "    \n",
        "    # Calculer le nombre d'exemples d'entrainement. Utiliser par exemple la fonction  \"np.ma.size()\"\n",
        "    #self.m = ?\n",
        "    \n",
        "    \n",
        "    # Calculer le nombre de features dans X (valeur de n dans le cours). Utiliser par exemple la fonction  \"np.ma.size()\"\n",
        "    #n = ?\n",
        "    \n",
        "    #Générer le vecteur colonne theta initial selon le nombre de features dans X\n",
        "    self.theta = ? \n",
        "    \n",
        "    while (self.steps < self.n_iterations):\n",
        "        \n",
        "        # Calculer la fonction hypothèse\n",
        "        #h = ?\n",
        "    \n",
        "        # Calculer l'erreur\n",
        "        #erreur = ?\n",
        "    \n",
        "        # Calculer la fonction de coût J(theta)\n",
        "        #cost = ?\n",
        "        \n",
        "        # Sauvegarder le coût actuel dans self.costs\n",
        "        #?\n",
        "    \n",
        "        # Gradient descent: 1. Caclul de la dérivée (\\nabla j(\\theta))\n",
        "        #deriv = ?\n",
        "        \n",
        "        # Gradient descent: 2. Mettre à jour les valeurs du vecteur theta\n",
        "        #self.theta = ?\n",
        "        \n",
        "        # Sauvegarder l'historique des theta\n",
        "        #?\n",
        "        \n",
        "        self.steps += 1\n",
        "\n",
        "\n",
        "\n",
        "\n",
        "  def predict(self,X):\n",
        "\n",
        "    # Implémenter la fonction hypothèse\n",
        "    #?\n",
        "\n",
        "\n",
        "\n",
        "\n"
      ],
      "execution_count": 0,
      "outputs": []
    },
    {
      "cell_type": "markdown",
      "metadata": {
        "id": "ehUqQFan_pq6",
        "colab_type": "text"
      },
      "source": [
        "## Application de l'agorithme \n",
        "\n",
        "\n",
        "\n",
        "> Normaliser les valeurs de chaque colonne de $X$ (cf. cours)\n",
        "\n",
        "> Créer un objet de type `LinearClassifier`\n",
        "\n",
        "> Entraîner votre classifier (c'est-à-dire appeler la fonction `fit`)\n",
        "\n",
        "> Tester votre classifier sur une nouvelle entrée\n",
        "\n",
        "> Tracer le courbe de la fonction de coût suivant le nombre d'itérations"
      ]
    },
    {
      "cell_type": "markdown",
      "metadata": {
        "id": "4eLLemlVASJ1",
        "colab_type": "text"
      },
      "source": [
        "## Exercice autonome\n",
        "> Ajouter une classe héritant de la classe `Classifier`, implémentant l'algorithme de régression logistique.\n",
        "\n",
        "> Pour vos tests, utiliser ce fichier [CSV](https://raw.githubusercontent.com/securitylab-repository/TPS-IA/master/payment_fraud.csv) contenant des données représentant des transactions éléctroniques étiquettées comme étant frauduleuses ou non. Vous prenez par exemple comme attributs (`accountAgeDays` et `numItems`)."
      ]
    }
  ]
}