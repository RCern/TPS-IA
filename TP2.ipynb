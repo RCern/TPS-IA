{
 "cells": [
  {
   "cell_type": "markdown",
   "metadata": {
    "colab_type": "text",
    "id": "view-in-github"
   },
   "source": [
    "<a href=\"https://colab.research.google.com/github/securitylab-repository/TPS-IA/blob/master/TP2.ipynb\" target=\"_parent\"><img src=\"https://colab.research.google.com/assets/colab-badge.svg\" alt=\"Open In Colab\"/></a>"
   ]
  },
  {
   "cell_type": "markdown",
   "metadata": {},
   "source": [
    "***L'objectif du TP est d'implémenter un classifier utilisant la régression linéaire***"
   ]
  },
  {
   "cell_type": "code",
   "execution_count": 133,
   "metadata": {
    "colab": {},
    "colab_type": "code",
    "id": "Vrc4GkPd8MaT"
   },
   "outputs": [],
   "source": [
    "from IPython.display import display\n",
    "import numpy as np\n",
    "import pandas as pd\n",
    "\n",
    "class Classifier:\n",
    "  def __init__(self, cls_type=\"Generic\"):\n",
    "    \n",
    "      self.cls_type = cls_type\n",
    "  \n",
    "  def __str__(self):\n",
    "    \n",
    "      return \"{} classifier\".format(self.cls_type)\n",
    "  \n",
    "  def __repr__(self):\n",
    "    \n",
    "      return \"{} classifier\".format(self.cls_type)\n",
    "\n",
    "  def _ipython_display_(self):\n",
    "    \n",
    "      return \"{} classifier\".format(self.cls_type)\n",
    "\n",
    "\n",
    "  def __getattr__(self,name):\n",
    "\n",
    "      print(\"{} don't exist in {} classifier\".format(name,self.cls_type))\n",
    "\n",
    "\n",
    "class LinearClassifier(Classifier):\n",
    "  \n",
    "  def __init__(self, alpha=1):\n",
    "\n",
    "    Classifier.__init__(self,\"LinearRegression\")\n",
    "    self.alpha = alpha\n",
    "    \n",
    "    \n",
    "  def fit(self,X = [],y = [],max_steps = 10000):\n",
    "\n",
    "    self.steps = 0\n",
    "    self.max_steps = max_steps\n",
    "    self.X = X\n",
    "    self.y = y\n",
    "    self.costs = []\n",
    "    self.thetas = []\n",
    "    \n",
    "    # calculer le nombre d'exemples d'entrainement\n",
    "    self.m = np.ma.size(self.X,axis=1)\n",
    "    \n",
    "    \n",
    "    # nombre de features dans X\n",
    "    x_nb_col = np.ma.size(self.X,axis=0)\n",
    "    \n",
    "    #générer le vecteur colonne theta initial selon le nombre de features dans X\n",
    "    np.random.seed(123) #Set the seed\n",
    "    self.theta = np.array([np.random.rand(2)]).T #Pick some random values to start with\n",
    "    #self.theta = np.array([np.linspace(1,200,x_nb_col)]).T\n",
    "    \n",
    "        \n",
    "    \n",
    "    while (self.steps < self.max_steps):\n",
    "        \n",
    "        # calculer la fonction hypothèse\n",
    "        h = np.dot(X, self.theta)\n",
    "    \n",
    "        # calculer l'erreur\n",
    "        erreur = h - self.y\n",
    "    \n",
    "        # calculer la fonction de coût J(theta)\n",
    "        cost = (1/(2 * self.m)) * np.dot(erreur.T, erreur)\n",
    "    \n",
    "        # sauvegarder le coût actuel\n",
    "        self.costs.append(cost)\n",
    "    \n",
    "        # gradient descent\n",
    "    \n",
    "        self.theta = self.theta - (self.alpha * (1/self.m) * np.dot(self.X.T, erreur))\n",
    "        self.thetas.append(self.theta)\n",
    "        \n",
    "        self.steps += 1\n",
    "\n",
    "\n",
    "\n",
    "\n",
    "  def predict(self,X):\n",
    "\n",
    "    # calculer la fonction hypothèse\n",
    "    h = np.dot(X, self.thetas[-1])\n",
    "    return \n",
    "\n",
    "\n",
    "\n",
    "\n"
   ]
  },
  {
   "cell_type": "code",
   "execution_count": 134,
   "metadata": {
    "colab": {
     "base_uri": "https://localhost:8080/",
     "height": 1000
    },
    "colab_type": "code",
    "id": "L7dGpxQ0zsz_",
    "outputId": "192789af-2b5d-4e8f-cc46-293a63f34ae7"
   },
   "outputs": [
    {
     "name": "stdout",
     "output_type": "stream",
     "text": [
      "[0.01808828 0.0180873  0.01808631 ... 0.01538268 0.01538265 0.01538262]\n"
     ]
    },
    {
     "data": {
      "image/png": "[encoded data removed]",
      "text/plain": [
       "<Figure size 432x288 with 1 Axes>"
      ]
     },
     "metadata": {
      "needs_background": "light"
     },
     "output_type": "display_data"
    }
   ],
   "source": [
    "%matplotlib inline\n",
    "#%matplotlib notebook\n",
    "import matplotlib.pyplot as plt\n",
    "\n",
    "housing = pd.read_csv('https://raw.githubusercontent.com/securitylab-repository/TPS-IA/master/datasets/housing.csv',delimiter=',')\n",
    "\n",
    "# Normalisation\n",
    "for col in ['median_income','total_rooms','median_house_value' ]:\n",
    "  housing[col] = (housing[col] - housing[col].median()) / (housing[col].max() - housing[col].min())\n",
    "\n",
    "y = housing.loc[:,['median_house_value']]\n",
    "\n",
    "X = housing.loc[:,['median_income','total_rooms']]\n",
    "\n",
    "l_cls = LinearClassifier(0.01)\n",
    "\n",
    "l_cls.fit(X,y,10000)\n",
    "\n",
    "print(np.array(l_cls.costs).flatten())\n",
    "\n",
    "#Plot the cost function...\n",
    "plt.title('Cost Function J')\n",
    "plt.xlabel('No. of iterations')\n",
    "plt.ylabel('Cost')\n",
    "plt.plot(np.array(l_cls.costs).flatten())\n",
    "plt.show()\n",
    "\n"
   ]
  },
  {
   "cell_type": "code",
   "execution_count": null,
   "metadata": {},
   "outputs": [],
   "source": []
  }
 ],
 "metadata": {
  "colab": {
   "authorship_tag": "ABX9TyMfEV9JL/t51Cj0s7Kwb60a",
   "collapsed_sections": [],
   "include_colab_link": true,
   "name": "TP2.ipynb",
   "provenance": []
  },
  "kernelspec": {
   "display_name": "Python 3",
   "language": "python",
   "name": "python3"
  },
  "language_info": {
   "codemirror_mode": {
    "name": "ipython",
    "version": 3
   },
   "file_extension": ".py",
   "mimetype": "text/x-python",
   "name": "python",
   "nbconvert_exporter": "python",
   "pygments_lexer": "ipython3",
   "version": "3.7.3"
  }
 },
 "nbformat": 4,
 "nbformat_minor": 1
}
